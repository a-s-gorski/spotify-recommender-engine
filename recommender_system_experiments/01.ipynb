{
 "cells": [
  {
   "cell_type": "code",
   "execution_count": 7,
   "id": "5cbeb9a6",
   "metadata": {},
   "outputs": [
    {
     "name": "stdout",
     "output_type": "stream",
     "text": [
      "Note: you may need to restart the kernel to use updated packages.\n"
     ]
    }
   ],
   "source": [
    "%pip install -q tqdm polars"
   ]
  },
  {
   "cell_type": "code",
   "execution_count": 6,
   "id": "20cae3b1",
   "metadata": {},
   "outputs": [
    {
     "name": "stderr",
     "output_type": "stream",
     "text": [
      "Processing JSON files: 100%|██████████| 1000/1000 [04:05<00:00,  4.08it/s]\n"
     ]
    },
    {
     "name": "stdout",
     "output_type": "stream",
     "text": [
      "{'artist_name': 'Missy Elliott', 'track_name': 'Lose Control (feat. Ciara & Fat Man Scoop)', 'album_name': 'The Cookbook', 'duration_ms': 226863, 'album_uri': 'spotify:album:6vV5UrXcfyQD1wu4Qo2I9K'}\n",
      "{'spotify:track:478eJVTkk34oWr1abVMqfv', 'spotify:track:3ZFTkvIE7kyPt6Nu3PEa7V', 'spotify:track:3njpLvANriMsdv3dgADEad', 'spotify:track:03tqyYWC9Um2ZqU0ZN849H', 'spotify:track:2zOWuWdyuMqOoboNRKlJO0', 'spotify:track:6o3s08kk2fQI37vxGZDrJ1', 'spotify:track:3r9bgSJlJz2zlevcBRYXko', 'spotify:track:3oDFtOhcN08qeDPAK6MEQG', 'spotify:track:6lV2MSQmRIkycDScNtrBXO', 'spotify:track:4E5P1XyAFtrjpiIxkydly4', 'spotify:track:4P6BuLsqtg5uISdE77ypI9', 'spotify:track:6e8lA4dJYNRNcPAUYX4QOk', 'spotify:track:5OiLJ8tjUPFiPX2gVM8fxJ', 'spotify:track:06iMqWThw4w8fTFyccvOwr', 'spotify:track:3CcvahnsiArpTHYQEWV2Au', 'spotify:track:3JILPb8Uc6NKmHq1poT5ML', 'spotify:track:3f7gYMirBEKuc57218BjOY', 'spotify:track:4XHQyvbrBsQaaBUW1VvmsL', 'spotify:track:6Gn02ZC8juXwQ10Xk7ACXx', 'spotify:track:5KY7zgFeH2GWoL1zP9mME6', 'spotify:track:2amzrvbxYiq8AxGntIiw5V', 'spotify:track:0svl7cK07gK1ia5ainczU5', 'spotify:track:4fxF8ljwryMZX5c9EKrLFE', 'spotify:track:3ZuiIFm9nRnkRz8AZAekjJ', 'spotify:track:4X5f3vT8MRuXF68pfjNte5', 'spotify:track:2CEgGE6aESpnmtfiZwYlbV', 'spotify:track:7kF1iPJTj3VFJX9XokQ80F', 'spotify:track:36ux3YuUsGTWPT8fXclS45', 'spotify:track:1uZKq4BcM2WjborHkGaQ1M', 'spotify:track:25ZttbpeUKDOm3aghD2oBJ', 'spotify:track:6eG57n71RMwtmtmeJxinSQ', 'spotify:track:28IvFkxf9TBHdCIe3n1JWm', 'spotify:track:7KIbDUwumrpG5f30kEYW1v', 'spotify:track:6RUpJeXT6U4SPEafnr9Wr7', 'spotify:track:0osyPhZsaMy7AlYNajBMBq', 'spotify:track:1b8xyP5ojtnT430YGDWHIA', 'spotify:track:2ouURa1AIXp3AvkS52Jry5', 'spotify:track:1AWQoqb9bSvzTjaLralEkT', 'spotify:track:52ZiapOPlSsnOW38efJZeK', 'spotify:track:14XdJB1WfIFbH1Yh4mcxYu', 'spotify:track:17husT8tMWaBHcQqUpYDZQ', 'spotify:track:7aKWgpecgLEqisWcXPElDl', 'spotify:track:557un1HgwYMuqfWGSTmnxw', 'spotify:track:4zweVv3Wa6XgexhoUOzkYs', 'spotify:track:70Vdd1gx5tn84jkAU31ASv', 'spotify:track:0l3GEbH3CviUytD6iX4wzg', 'spotify:track:5OMwQFBcte0aWFJFqrr5oj', 'spotify:track:6TrNRd98WksT9Kkmx9uj6R', 'spotify:track:1ACZpHI5vZ5Ea4xGlkdGWM', 'spotify:track:6YTp4sUEi3oWNToQvOjke6', 'spotify:track:6XAA7T9VHcqKQSzjmXAJ8o', 'spotify:track:7pYPpFhFyOwCjf4y7vdJqM', 'spotify:track:2TfSHkHiFO4gRztVIkggkE', 'spotify:track:0TT7wJiEYD5GAeJfSR1ETX', 'spotify:track:02eD9ymfJOJOhM97HYp5R9', 'spotify:track:6HePVKyIeL20JWLVthsU9c', 'spotify:track:3bwCMbwDZVtvJDnUTQIdCX', 'spotify:track:7oxhlX4thn7DZ49lEeEBkD', 'spotify:track:3AYcyxEACnmE6d96RPubID', 'spotify:track:2Ozc0me9PV5vlt8cokwdvI', 'spotify:track:66TRwr5uJwPt15mfFkzhbi', 'spotify:track:1mXuMM6zjPgjL4asbBsgnt', 'spotify:track:6iMEAUdTIMwU4X1B5mBj6A', 'spotify:track:1lzr43nnXAijIGYnCT8M8H', 'spotify:track:2hKdd3qO7cWr2Jo0Bcs0MA', 'spotify:track:5qII2n90lVdPDcgXEEVHNy', 'spotify:track:0YpBHgZ9Pfr4fbiKkP9nj9', 'spotify:track:6u5M4jPpYkoRV4vVHDQvkd', 'spotify:track:2k79z9A1dbdQ8gQG8M1Zz5', 'spotify:track:6NncjnSD7JLEetWb9KqMRY', 'spotify:track:0uqPG793dkDDN7sCUJJIVC', 'spotify:track:3uPfVXcjnpOjyzI3jb3js4', 'spotify:track:2U0zvszh4nKG92Q8TVnnhT', 'spotify:track:2PpruBYCo4H7WOBJ7Q2EwM', 'spotify:track:5AyL2kgLtTWEu3qO3B9SqK', 'spotify:track:0WKYRFtH6KKbaNWjsxqm70', 'spotify:track:59dLtGBS26x7kc0rHbaPrq', 'spotify:track:4gFXY5yvHayGckJndafYQE', 'spotify:track:6ihL9TjfRjadfEePzXXyVF', 'spotify:track:0D5ER6UGojHVHVVJV0QdY8', 'spotify:track:235LXPXfi0SmOaS9TaCh3c', 'spotify:track:28GUjBGqZVcAV4PHSYzkj2', 'spotify:track:0weAUscowxeqDtpCgtbpgp', 'spotify:track:5i66xrvSh1MjjyDd6zcwgj', 'spotify:track:3xVtc7PB4V3AqAfq4Iahli', 'spotify:track:1so9EsZWS6fAUyLTXUt38r', 'spotify:track:1x8AFBt9UEMRY41fSxi7aA', 'spotify:track:6ScJMrlpiLfZUGtWp4QIVt', 'spotify:track:3VzJE6yGuj8fDExUh6TLnc', 'spotify:track:1CI6YgwwNq3VfhgxPuEpE6', 'spotify:track:67T6l4q3zVjC5nZZPXByU8', 'spotify:track:1D066zixBwqFYqBhKgdPzp', 'spotify:track:359krpyCKcFF8SFvqWES9L', 'spotify:track:2NBQmPrOEEjA8VbeWOQGxO', 'spotify:track:1V4jC0vJ5525lEF1bFgPX2', 'spotify:track:4NTWZqvfQTlOMitlVn6tew', 'spotify:track:0jSMveIWvnhDIvzqN74Uc7', 'spotify:track:7H6ev70Weq6DdpZyyTmUXk', 'spotify:track:5SwnIEzR52rkTXYzgWQSyo', 'spotify:track:50r1EUDpmSZRPo5aIZpmWi', 'spotify:track:6a049FDGdsuWXhoc8XsDri', 'spotify:track:2334WaCjswLcRIRgTTPWaZ', 'spotify:track:1hGy2eLcmC8eKx7qr1tOqx', 'spotify:track:3oHNJECGN3bBoGXejlw2b1', 'spotify:track:6RpiAj9Ofv0Uqp6n2OuRoh', 'spotify:track:5ZsPy9wHH733NlU6c4v2Hi', 'spotify:track:0O986IRZ2rL3qGH5QiD4ZO', 'spotify:track:3jlbL2OTD5YmIunYzgQTAN', 'spotify:track:30VrBsh1STRBoIrhQOAwzK', 'spotify:track:305WCRhhS10XUcH6AEwZk6', 'spotify:track:3B7i9OKRRmIsSBHEbJz58Y', 'spotify:track:6YjhQtm8KBygON485GojvE', 'spotify:track:0WqIKmW4BTrj3eJFmnCKMv', 'spotify:track:6DkXLzBQT7cwXmTyzAB1DJ', 'spotify:track:2kQuhkFX7uSVepCD3h29g5', 'spotify:track:2IpGdrWvIZipmaxo1YRxw5', 'spotify:track:3U3Ff8ZvL6oEu1r98gCCWW', 'spotify:track:1Q9b6CeMcDuO0uq5OJCrqu', 'spotify:track:6BaxqcoEM9r3LXisTyJjST', 'spotify:track:3myI1o0izYfh2z9JTQzCfJ', 'spotify:track:0uFvvXbmGIXlf5ZgtHyYpf', 'spotify:track:70cTMpcgWMcR18t9MRJFjB', 'spotify:track:3bfqkspKABT4pPicm6wC9F', 'spotify:track:1ulXmqjktxSdrdT1bzc69H', 'spotify:track:080eZLtogYrty3fiW8aHxB', 'spotify:track:0O45fw2L5vsWpdsOdXwNAR', 'spotify:track:5dNfHmqgr128gMY2tc5CeJ', 'spotify:track:2IUylG1WDsYWbMwH3HKuQo', 'spotify:track:7ElF5zxOwYP4qVSWVvse3W', 'spotify:track:41dlUjw62zsD6LZQcljMZR', 'spotify:track:5tRifT4qX6gfmpEK2pUv4h', 'spotify:track:0Z97JEXHiXXHpc4blFKQc6', 'spotify:track:0zREtnLmVnt8KUJZZbSdla', 'spotify:track:3H1LCvO3fVsK2HPguhbml0', 'spotify:track:2yEwNpzHpY0ctoWf7EPMdy', 'spotify:track:6I9VzXrHxO9rA9A5euc8Ak', 'spotify:track:20LxTsa6936zOlzTWqoPVt', 'spotify:track:53ETzLQQKFCzykRbqWb1ph', 'spotify:track:2tQM1BUrXp2kqOM6mN11TC', 'spotify:track:2I9foKseoFQh07p6sD2voE', 'spotify:track:2qPUnoasNe4Ep43emVXEig', 'spotify:track:0XUfyU2QviPAs6bxSpXYG4', 'spotify:track:3Q4WeJmzxuDpzMu9QjQqbM', 'spotify:track:6dViIgkYIRccNImPln58rS', 'spotify:track:2cMTIlktg3M9mXYqCPqw1J', 'spotify:track:0LWQWOFoz5GJLqcHk1fRO2', 'spotify:track:6YbhspuOar1D9WSSnfe7ds', 'spotify:track:3lPAHV0b53zgRRm9LBgnTY', 'spotify:track:1HddZmLuEQazbXePhOjGzC', 'spotify:track:2WNVqZq1ujhMDlOAqBFkVv', 'spotify:track:6AviHKu3ydzAePBmzEi62v', 'spotify:track:0Rz1KXsP4bhGxs0ffySSSn', 'spotify:track:4P7VFiaZb3xrXoqGwZXC3J', 'spotify:track:5BoIP8Eha5hwmRVURkC2Us', 'spotify:track:7iL6o9tox1zgHpKUfh9vuC', 'spotify:track:1kMuU3TNQvHbqvXCWBodmP', 'spotify:track:27L8sESb3KR79asDUBu8nW', 'spotify:track:3iL2l5gUqyPS6vDwJFgJTR', 'spotify:track:0CAfXk7DXMnon4gLudAp7J', 'spotify:track:4MxZW1XEcPuIZmkANsJabC', 'spotify:track:3qK8x4GZcIkzTz9JEqvIF5', 'spotify:track:0DBMyP1PawF6OEHqP8ATqe', 'spotify:track:7ySUcLPVX7KudhnmNcgY2D', 'spotify:track:5v2IyRFbo4cEc2vZyGTAs0', 'spotify:track:3yfqSUWxFvZELEM4PmlwIR', 'spotify:track:4tXA1TUmKvz7CbUT9LUHDx', 'spotify:track:0I3q5fE6wg7LIfHGngUTnV', 'spotify:track:0mwbc2AqVHIziVGg3syEI9', 'spotify:track:4ocbH5ZJqajZIpUrqRUoue', 'spotify:track:0d28khcov6AiegSCpG5TuT', 'spotify:track:7LqjznQwfrax7MjQXmxqdQ'}\n"
     ]
    }
   ],
   "source": [
    "import os\n",
    "import json\n",
    "import pickle\n",
    "from tqdm import tqdm\n",
    "from concurrent.futures import ThreadPoolExecutor\n",
    "\n",
    "# Initialize dictionaries to store song details and playlist data\n",
    "song_details = {}\n",
    "playlist_songs = {}\n",
    "\n",
    "# Directory containing JSON files\n",
    "json_directory = \"data\"\n",
    "\n",
    "# Function to process a single JSON file\n",
    "def process_json_file(json_file):\n",
    "    global song_details, playlist_songs\n",
    "\n",
    "    # Read the JSON file\n",
    "    with open(os.path.join(json_directory, json_file), 'r') as f:\n",
    "        data = json.load(f)\n",
    "\n",
    "        # Extract playlist information\n",
    "        for playlist in data.get(\"playlists\", []):\n",
    "            playlist_name = playlist[\"name\"]\n",
    "            song_ids = set()  # Store song IDs for this playlist\n",
    "\n",
    "            for track in playlist.get(\"tracks\", []):\n",
    "                song_id = track[\"track_uri\"]\n",
    "\n",
    "                # Store song details\n",
    "                song_details[song_id] = {\n",
    "                    \"artist_name\": track[\"artist_name\"],\n",
    "                    \"track_name\": track[\"track_name\"],\n",
    "                    \"album_name\": track[\"album_name\"],\n",
    "                    \"duration_ms\": track[\"duration_ms\"],\n",
    "                    \"album_uri\": track[\"album_uri\"]\n",
    "                }\n",
    "\n",
    "                # Add the song ID to the playlist's set of song IDs\n",
    "                song_ids.add(song_id)\n",
    "\n",
    "            # Store playlist data (set of song IDs)\n",
    "            playlist_songs[playlist_name] = song_ids\n",
    "\n",
    "# Get list of JSON files in the directory\n",
    "json_files = [f for f in os.listdir(json_directory) if f.endswith('.json')]\n",
    "\n",
    "# Using ThreadPoolExecutor for multithreading with tqdm progress bar\n",
    "with ThreadPoolExecutor(max_workers=4) as executor:\n",
    "    # Wrap the executor's map with tqdm for a progress bar\n",
    "    list(tqdm(executor.map(process_json_file, json_files), total=len(json_files), desc=\"Processing JSON files\"))\n",
    "\n",
    "# Saving the data structures using pickle for fast retrieval\n",
    "with open('song_details.pkl', 'wb') as f:\n",
    "    pickle.dump(song_details, f)\n",
    "\n",
    "with open('playlist_songs.pkl', 'wb') as f:\n",
    "    pickle.dump(playlist_songs, f)\n",
    "\n",
    "# Example of retrieving song details\n",
    "song_id = 'spotify:track:0UaMYEvWZi0ZqiDOoHU3YI'\n",
    "if song_id in song_details:\n",
    "    print(song_details[song_id])\n",
    "\n",
    "# Example of retrieving song IDs in a playlist\n",
    "playlist_name = 'Throwbacks'\n",
    "if playlist_name in playlist_songs:\n",
    "    print(playlist_songs[playlist_name])\n"
   ]
  },
  {
   "cell_type": "code",
   "execution_count": 8,
   "id": "46316e4e",
   "metadata": {},
   "outputs": [
    {
     "name": "stderr",
     "output_type": "stream",
     "text": [
      "Counting tracks: 100%|██████████| 92944/92944 [00:01<00:00, 62630.11it/s]\n"
     ]
    },
    {
     "name": "stdout",
     "output_type": "stream",
     "text": [
      "shape: (100, 4)\n",
      "┌─────────────────────────────────┬───────┬─────────────────────────────┬───────────────────┐\n",
      "│ track_uri                       ┆ count ┆ track_name                  ┆ artist_name       │\n",
      "│ ---                             ┆ ---   ┆ ---                         ┆ ---               │\n",
      "│ str                             ┆ i64   ┆ str                         ┆ str               │\n",
      "╞═════════════════════════════════╪═══════╪═════════════════════════════╪═══════════════════╡\n",
      "│ spotify:track:1xznGGDReH1oQq0x… ┆ 3605  ┆ One Dance                   ┆ Drake             │\n",
      "│ spotify:track:7KXjTSCq5nL1LoYt… ┆ 3588  ┆ HUMBLE.                     ┆ Kendrick Lamar    │\n",
      "│ spotify:track:7BKLCZ1jbUBVqRi2… ┆ 3471  ┆ Closer                      ┆ The Chainsmokers  │\n",
      "│ spotify:track:7yyRTcZmCiyzzJlN… ┆ 3182  ┆ Broccoli (feat. Lil Yachty) ┆ DRAM              │\n",
      "│ spotify:track:3a1lNhkSLSkpJE4M… ┆ 3181  ┆ Congratulations             ┆ Post Malone       │\n",
      "│ …                               ┆ …     ┆ …                           ┆ …                 │\n",
      "│ spotify:track:4tCtwWceOPWzenK2… ┆ 1748  ┆ Work from Home              ┆ Fifth Harmony     │\n",
      "│ spotify:track:2fQrGHiQOvpL9UgP… ┆ 1747  ┆ Bank Account                ┆ 21 Savage         │\n",
      "│ spotify:track:3uhBIQ7tv8j1FME8… ┆ 1740  ┆ All of Me                   ┆ John Legend       │\n",
      "│ spotify:track:5Db9VIdDsN5yu3Eu… ┆ 1739  ┆ Stay With Me                ┆ Sam Smith         │\n",
      "│ spotify:track:6i0V12jOa3mr6uu4… ┆ 1732  ┆ Heathens                    ┆ Twenty One Pilots │\n",
      "└─────────────────────────────────┴───────┴─────────────────────────────┴───────────────────┘\n"
     ]
    }
   ],
   "source": [
    "import pickle\n",
    "import polars as pl\n",
    "from collections import Counter\n",
    "from tqdm import tqdm\n",
    "\n",
    "# Load song metadata and playlist data\n",
    "with open(\"song_details.pkl\", \"rb\") as f:\n",
    "    song_details = pickle.load(f)\n",
    "\n",
    "with open(\"playlist_songs.pkl\", \"rb\") as f:\n",
    "    playlist_songs = pickle.load(f)\n",
    "\n",
    "# Count occurrences of each track_uri across all playlists\n",
    "track_counter = Counter()\n",
    "\n",
    "for playlist, song_ids in tqdm(playlist_songs.items(), desc=\"Counting tracks\"):\n",
    "    track_counter.update(song_ids)\n",
    "\n",
    "# Convert to Polars DataFrame\n",
    "count_df = pl.DataFrame([\n",
    "    {\"track_uri\": track_uri, \"count\": count}\n",
    "    for track_uri, count in track_counter.items()\n",
    "])\n",
    "\n",
    "# Prepare song metadata as DataFrame\n",
    "meta_df = pl.DataFrame([\n",
    "    {\n",
    "        \"track_uri\": uri,\n",
    "        \"track_name\": meta[\"track_name\"],\n",
    "        \"artist_name\": meta[\"artist_name\"],\n",
    "    }\n",
    "    for uri, meta in song_details.items()\n",
    "])\n",
    "\n",
    "# Join count with metadata\n",
    "result_df = (\n",
    "    count_df\n",
    "    .join(meta_df, on=\"track_uri\", how=\"left\")\n",
    "    .sort(\"count\", descending=True)\n",
    "    .head(100)\n",
    ")\n",
    "\n",
    "# Display results\n",
    "print(result_df)\n",
    "\n",
    "# Optional: Save to CSV\n",
    "result_df.write_csv(\"top_100_songs.csv\")\n"
   ]
  },
  {
   "cell_type": "code",
   "execution_count": null,
   "id": "87c4723d",
   "metadata": {},
   "outputs": [],
   "source": []
  }
 ],
 "metadata": {
  "kernelspec": {
   "display_name": "recommender_system",
   "language": "python",
   "name": "python3"
  },
  "language_info": {
   "codemirror_mode": {
    "name": "ipython",
    "version": 3
   },
   "file_extension": ".py",
   "mimetype": "text/x-python",
   "name": "python",
   "nbconvert_exporter": "python",
   "pygments_lexer": "ipython3",
   "version": "3.11.11"
  }
 },
 "nbformat": 4,
 "nbformat_minor": 5
}
