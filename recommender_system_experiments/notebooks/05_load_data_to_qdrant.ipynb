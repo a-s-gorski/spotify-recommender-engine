{
 "cells": [
  {
   "cell_type": "code",
   "execution_count": 1,
   "id": "379da5f6",
   "metadata": {},
   "outputs": [
    {
     "name": "stdout",
     "output_type": "stream",
     "text": [
      "Note: you may need to restart the kernel to use updated packages.\n"
     ]
    }
   ],
   "source": [
    "%pip install -q qdrant-client python-dotenv aiohttp nest_asyncio"
   ]
  },
  {
   "cell_type": "code",
   "execution_count": 1,
   "id": "ca9fba08",
   "metadata": {},
   "outputs": [],
   "source": [
    "import pickle\n",
    "from pathlib import Path\n",
    "from tqdm import tqdm\n",
    "from sklearn.feature_extraction.text import TfidfVectorizer\n",
    "from sklearn.model_selection import train_test_split\n",
    "import numpy as np\n",
    "from qdrant_client import QdrantClient\n",
    "from qdrant_client.models import VectorParams, Distance, PointStruct\n",
    "import os\n",
    "from dotenv import load_dotenv"
   ]
  },
  {
   "cell_type": "code",
   "execution_count": 2,
   "id": "6d9a256c",
   "metadata": {},
   "outputs": [],
   "source": [
    "load_dotenv()\n",
    "qdrant_api_key = os.getenv(\"QDRANT_API_KEY\")"
   ]
  },
  {
   "cell_type": "code",
   "execution_count": 3,
   "id": "d64e07d0",
   "metadata": {},
   "outputs": [],
   "source": [
    "input_path = \"processed/01_filtered/\"\n",
    "\n",
    "with open(Path(input_path) / \"filtered_playlists.pkl\", \"rb\") as f:\n",
    "    playlists = pickle.load(f)  # list of lists of track_uris\n",
    "\n",
    "with open(Path(input_path) / \"valid_tracks.pkl\", \"rb\") as f:\n",
    "    valid_tracks_dict = pickle.load(f)  # dict from track_uri -> metadata dict"
   ]
  },
  {
   "cell_type": "code",
   "execution_count": 4,
   "id": "c16e6a4b",
   "metadata": {},
   "outputs": [
    {
     "name": "stderr",
     "output_type": "stream",
     "text": [
      "Filtering playlists: 100%|██████████| 996829/996829 [00:20<00:00, 49833.52it/s]\n"
     ]
    }
   ],
   "source": [
    "def filter_valid_tracks(playlists, valid_tracks):\n",
    "    filtered = []\n",
    "    for pl in tqdm(playlists, total=len(playlists), desc=\"Filtering playlists\"):\n",
    "        filtered_tracks = [t for t in pl['tracks'] if t in valid_tracks]\n",
    "        filtered.append({'name': pl['name'], 'tracks': filtered_tracks})\n",
    "    return filtered\n",
    "\n",
    "filtered_playlists = filter_valid_tracks(playlists, valid_tracks_dict)\n",
    "filtered_playlists = [p for p in filtered_playlists if len(p['tracks']) >= 5]"
   ]
  },
  {
   "cell_type": "code",
   "execution_count": 6,
   "id": "dd415a8e",
   "metadata": {},
   "outputs": [],
   "source": [
    "# --- Split data ---\n",
    "train_playlists, test_playlists = train_test_split(filtered_playlists, test_size=0.1, random_state=42)\n",
    "train_names = [p['name'] for p in train_playlists]\n",
    "train_tracks = [p['tracks'] for p in train_playlists]\n",
    "\n",
    "# --- Fit TF-IDF Vectorizer ---\n",
    "vectorizer = TfidfVectorizer(max_features=1000, stop_words='english', lowercase=True, token_pattern=r'\\b\\w+\\b')\n",
    "name_vectors = vectorizer.fit_transform(train_names)"
   ]
  },
  {
   "cell_type": "code",
   "execution_count": 7,
   "id": "fa636ea0",
   "metadata": {},
   "outputs": [
    {
     "data": {
      "text/plain": [
       "['vectorizer.pkl']"
      ]
     },
     "execution_count": 7,
     "metadata": {},
     "output_type": "execute_result"
    }
   ],
   "source": [
    "import joblib\n",
    "\n",
    "joblib.dump(vectorizer, \"vectorizer.pkl\")"
   ]
  },
  {
   "cell_type": "code",
   "execution_count": 7,
   "id": "bcc8fdfb",
   "metadata": {},
   "outputs": [
    {
     "name": "stdout",
     "output_type": "stream",
     "text": [
      "1000\n"
     ]
    }
   ],
   "source": [
    "print(name_vectors.shape[1])"
   ]
  },
  {
   "cell_type": "code",
   "execution_count": null,
   "id": "e4b7a615",
   "metadata": {},
   "outputs": [
    {
     "name": "stderr",
     "output_type": "stream",
     "text": [
      "/tmp/ipykernel_30522/582731978.py:26: DeprecationWarning: `recreate_collection` method is deprecated and will be removed in the future. Use `collection_exists` to check collection existence and `create_collection` instead.\n",
      "  client.recreate_collection(\n"
     ]
    },
    {
     "data": {
      "text/plain": [
       "True"
      ]
     },
     "execution_count": 8,
     "metadata": {},
     "output_type": "execute_result"
    }
   ],
   "source": [
    "QDRANT_URL = \"https://ede2a3a4-b5e3-418b-8b33-c78597d0190d.europe-west3-0.gcp.cloud.qdrant.io\"\n",
    "QDRANT_API_KEY = os.getenv(\"QDRANT_API_KEY\")\n",
    "COLLECTION_NAME = \"playlists\"\n",
    "VECTOR_DIM = 768           # Adjust if your real vectors differ\n",
    "NUM_PLAYLISTS = 1000       # For testing, reduce to avoid crashes\n",
    "BATCH_SIZE = 300           # Batch size for uploads\n",
    "MAX_CONCURRENCY = 4        # Simultaneous batches\n",
    "\n",
    "client = QdrantClient(\n",
    "    url=\"localhost\",\n",
    "    port=6333\n",
    ")\n",
    "\n",
    "collection_name = \"playlists\"\n",
    "\n",
    "\n",
    "# Recreate collection\n",
    "if collection_name in [c.name for c in client.get_collections().collections]:\n",
    "    client.delete_collection(collection_name)\n",
    "\n",
    "client.recreate_collection(\n",
    "    collection_name=collection_name,\n",
    "    vectors_config=VectorParams(size=name_vectors.shape[1], distance=Distance.COSINE)\n",
    ")"
   ]
  },
  {
   "cell_type": "code",
   "execution_count": 9,
   "id": "c9ef56b1",
   "metadata": {},
   "outputs": [
    {
     "name": "stdout",
     "output_type": "stream",
     "text": [
      "status=<CollectionStatus.GREEN: 'green'> optimizer_status=<OptimizersStatusOneOf.OK: 'ok'> vectors_count=None indexed_vectors_count=0 points_count=0 segments_count=8 config=CollectionConfig(params=CollectionParams(vectors=VectorParams(size=1000, distance=<Distance.COSINE: 'Cosine'>, hnsw_config=None, quantization_config=None, on_disk=None, datatype=None, multivector_config=None), shard_number=1, sharding_method=None, replication_factor=1, write_consistency_factor=1, read_fan_out_factor=None, on_disk_payload=True, sparse_vectors=None), hnsw_config=HnswConfig(m=16, ef_construct=100, full_scan_threshold=10000, max_indexing_threads=0, on_disk=False, payload_m=None), optimizer_config=OptimizersConfig(deleted_threshold=0.2, vacuum_min_vector_number=1000, default_segment_number=0, max_segment_size=None, memmap_threshold=None, indexing_threshold=20000, flush_interval_sec=5, max_optimization_threads=None), wal_config=WalConfig(wal_capacity_mb=32, wal_segments_ahead=0), quantization_config=None, strict_mode_config=StrictModeConfigOutput(enabled=False, max_query_limit=None, max_timeout=None, unindexed_filtering_retrieve=None, unindexed_filtering_update=None, search_max_hnsw_ef=None, search_allow_exact=None, search_max_oversampling=None, upsert_max_batchsize=None, max_collection_vector_size_bytes=None, read_rate_limit=None, write_rate_limit=None, max_collection_payload_size_bytes=None, max_points_count=None, filter_max_conditions=None, condition_max_size=None, multivector_config=None, sparse_config=None)) payload_schema={}\n"
     ]
    }
   ],
   "source": [
    "collection_info = client.get_collection(collection_name=collection_name)\n",
    "vectors_config = collection_info\n",
    "print(collection_info)\n"
   ]
  },
  {
   "cell_type": "code",
   "execution_count": 10,
   "id": "b42664d3",
   "metadata": {},
   "outputs": [],
   "source": [
    "import nest_asyncio\n",
    "import asyncio\n",
    "\n",
    "nest_asyncio.apply()  # allow nested event loops in notebook"
   ]
  },
  {
   "cell_type": "code",
   "execution_count": 11,
   "id": "4844a9b9",
   "metadata": {},
   "outputs": [],
   "source": [
    "from qdrant_client import AsyncQdrantClient\n",
    "from qdrant_client.http.models import PointStruct as AsyncPointStruct\n",
    "from tqdm.notebook import tqdm\n",
    "\n",
    "BATCH_SIZE = 256\n",
    "\n",
    "async def async_upload_qdrant(name_vectors, train_names, train_tracks):\n",
    "    QDRANT_URL = \"https://ede2a3a4-b5e3-418b-8b33-c78597d0190d.europe-west3-0.gcp.cloud.qdrant.io\"\n",
    "    QDRANT_API_KEY = os.getenv(\"QDRANT_API_KEY\")\n",
    "    print(f\"Qdrant API Key: {QDRANT_API_KEY}\")\n",
    "    # async_client = AsyncQdrantClient(    \n",
    "    #     url=\"localhost\",\n",
    "    #     port=6333)\n",
    "    async_client = AsyncQdrantClient(    \n",
    "        url=QDRANT_URL,\n",
    "        api_key=QDRANT_API_KEY)\n",
    "    total = len(train_names)\n",
    "\n",
    "    sem = asyncio.Semaphore(8)  # limit concurrency\n",
    "\n",
    "    async def upload_batch(start_idx):\n",
    "        async with sem:\n",
    "            batch_names = train_names[start_idx:start_idx + BATCH_SIZE]\n",
    "            batch_vectors = name_vectors[start_idx:start_idx + BATCH_SIZE]\n",
    "            batch_tracks = train_tracks[start_idx:start_idx + BATCH_SIZE]\n",
    "\n",
    "            points = []\n",
    "            for j, (name, vec, tracks) in enumerate(zip(batch_names, batch_vectors, batch_tracks)):\n",
    "                idx = start_idx + j\n",
    "                vector = vec.toarray().flatten().tolist()\n",
    "                payload = {\n",
    "                    \"name\": name,\n",
    "                    \"tracks\": tracks\n",
    "                }\n",
    "                points.append(AsyncPointStruct(id=idx, vector=vector, payload=payload))\n",
    "\n",
    "            await async_client.upsert(collection_name=collection_name, points=points)\n",
    "\n",
    "    tasks = [upload_batch(i) for i in range(0, total, BATCH_SIZE)]\n",
    "\n",
    "    for f in tqdm(asyncio.as_completed(tasks), total=len(tasks), desc=\"Uploading to Qdrant\"):\n",
    "        await f\n",
    "\n",
    "    await async_client.close()"
   ]
  },
  {
   "cell_type": "code",
   "execution_count": 24,
   "id": "bb40f206",
   "metadata": {},
   "outputs": [
    {
     "name": "stdout",
     "output_type": "stream",
     "text": [
      "Search results: points=[ScoredPoint(id=27422, version=0, score=0.0, payload={'name': 'Pre-game', 'tracks': ['spotify:track:1djfwy9FvafpK4KhznjjeI', 'spotify:track:2Zy7XVdxyZQB8xp5xbpJdl', 'spotify:track:75Y0HwWBQAJInFaKb10Ogh', 'spotify:track:3vR6ivBSe0SWntHyEzh4X1', 'spotify:track:4EpDZxSApKaod3PVqT5ben', 'spotify:track:25rc1PFgPvtV6GFSloyOI0', 'spotify:track:2AGUFka8kBWCM47h5uTlDb', 'spotify:track:0UAmPUdpTRq8w54B3H8TzY', 'spotify:track:7i5mufbqmLZ4Ae7JnmLqp6', 'spotify:track:6QwwsJC57SitPcWuyEpuwd', 'spotify:track:2n5gVJ9fzeX2SSWlLQuyS9', 'spotify:track:32SFvZODywPBVDYSYtqxCj', 'spotify:track:7xVLFuuYdAvcTfcP3IG3dS', 'spotify:track:7rSERmjAT38lC5QhJ8hnQc', 'spotify:track:7GZ6edN5wxF9icp7wIUoR8', 'spotify:track:68LR4RQ7JLHwRodWxPOB0k', 'spotify:track:6t2eIONH4Sax3R21QWiKNp', 'spotify:track:5mB1bWU8VueYVxuvcLPn2B', 'spotify:track:4bdJHQp90ymjEIkkYhcENB', 'spotify:track:2tT0H3A0hNTPbJFRoiZc6x', 'spotify:track:6ekV6MGnPTuCOnjB4VcWGc', 'spotify:track:0B8QzDH7YWih85V5SEMnyJ', 'spotify:track:1Uh36HwT2nXXw1nF0OXa34', 'spotify:track:4afMG2PlvFfX976bZJvHmb', 'spotify:track:5oyUurs28XRagLa8lgm6V3', 'spotify:track:6VZ10jug9GcFvNjd6w8kSI', 'spotify:track:7yyRTcZmCiyzzJlNzGC9Ol', 'spotify:track:40yJGQyEaBbIkXpwMFkXip', 'spotify:track:2UmtjSvU9FOVKJH9trz7Ht', 'spotify:track:7JpewU9FPkJyiOi0CErkpI', 'spotify:track:49zD0wr2S3d0lZPib0K4e1', 'spotify:track:1j6kDJttn6wbVyMaM42Nxm', 'spotify:track:20fAoPjfYltmd3K3bO7gbt', 'spotify:track:0z5ZPs57J2KERwM1tBM2GF']}, vector=None, shard_key=None, order_value=None), ScoredPoint(id=29685, version=84, score=0.0, payload={'name': 'PRE GAME ', 'tracks': ['spotify:track:0bLwBXrMd3z96utPHeuQDK', 'spotify:track:1e1JKLEDKP7hEQzJfNAgPl', 'spotify:track:2gZUPNdnz5Y45eiGxpHGSc', 'spotify:track:1tyjWMMINb9S0YBynTvJ7s', 'spotify:track:2fQrGHiQOvpL9UgPvtYy6G', 'spotify:track:6HZILIRieu8S0iqY8kIKhj', 'spotify:track:7bp82X8aj8BGFPrZpmnCED', 'spotify:track:3mViCAKDSnEoGijjbmcQYA', 'spotify:track:40oKW22ZNNkEdZLJTScaQI', 'spotify:track:4kEuccQJ5uqyGzHPUj5r5X', 'spotify:track:65kWtHIqg2IACNR9KP4KOS', 'spotify:track:1MkBO6zG8gdgoc84HZ2T0q', 'spotify:track:3l4ha5okkyLgMAFIKRSNVG', 'spotify:track:7r6LNJT2LqpLpEyZQJPygt', 'spotify:track:12anrpOwNHxfapiv51MGyV', 'spotify:track:0gRUMcDF1BxZ9TRI1hqrjT', 'spotify:track:7lQWRAjyhTpCWFC0jmclT4', 'spotify:track:2N3U8uTYhjX2KwGT0pf5x0', 'spotify:track:0j16JpJCRdWs9qhuuDKodi', 'spotify:track:1kusepF3AacIEtUTYrw4GV', 'spotify:track:2mumY7rLurSxmnWIC1PCtc']}, vector=None, shard_key=None, order_value=None), ScoredPoint(id=29693, version=84, score=0.0, payload={'name': 'Pre-Game', 'tracks': ['spotify:track:7sLDnUauivS2vN6Z9EfUJT', 'spotify:track:4Jk6fZmX3gGYYbHnjq5uyN', 'spotify:track:1BpMnkPP9C5StoxcgcFEVz', 'spotify:track:3WNx4pJLzQgYapuBWS4mUG', 'spotify:track:0nGryiNrr7d79lPbcsXXs5', 'spotify:track:2bjwRfXMk4uRgOD9IBYl9h', 'spotify:track:34oWbFBfGEElvgO0a5c9V4', 'spotify:track:7EUdsWV0Cs8nyTo4R5Ef9b', 'spotify:track:7KLZZq0t3jS6bcP64rCbwg', 'spotify:track:5J5PXmMdQ2nh1lZOal8KmK', 'spotify:track:2sBHQfX9QxJwGcdutAj6Pj', 'spotify:track:0B8QzDH7YWih85V5SEMnyJ', 'spotify:track:5CtI0qwDJkDQGwXD1H1cLb', 'spotify:track:1MNdfH2KC5LdEde3JPJ513', 'spotify:track:7GX5flRQZVHRAGd6B4TmDO', 'spotify:track:1QgTBfRN5m81a5K01qens6']}, vector=None, shard_key=None, order_value=None), ScoredPoint(id=36128, version=356, score=0.0, payload={'name': 'Pre game', 'tracks': ['spotify:track:3qmvK8QARSPkFTuKeIXSbs', 'spotify:track:2gZUPNdnz5Y45eiGxpHGSc', 'spotify:track:60a0Rd6pjrkxjPbaKzXjfq', 'spotify:track:5sNESr6pQfIhL3krM8CtZn', 'spotify:track:6yr8GiTHWvFfi4o6Q5ebdT', 'spotify:track:1WOwGVtrVWtV3WW7X4TZoB', 'spotify:track:2kfpH2OAAdpk5J3JaraAIh', 'spotify:track:6nDAs3PRe37fgqLfx51lBB', 'spotify:track:1kMuU3TNQvHbqvXCWBodmP', 'spotify:track:31Q9ZTF9x81BDonlObCbvP', 'spotify:track:3WgTbafC5uRpdQdFndQYxE', 'spotify:track:6K7wB7VNOJMWFrRrfAhAxo', 'spotify:track:3SuzCeGoNOWmbWOoDMou0B', 'spotify:track:2W4VOh7SNDK1OFzvT3H3FU', 'spotify:track:3LySNPf6PRGhOVWJdZutow', 'spotify:track:42d6bxB7OQ6f8ct2ihYNBw', 'spotify:track:5pP3WtXwZ6HjcbuJ3vhDTZ', 'spotify:track:6rktW7ir6seXSqBoMaoJih', 'spotify:track:4im75rKfAPOI3osofmhXl5', 'spotify:track:439TlnnznSiBbQbgXiBqAd', 'spotify:track:3e21cX0CVwzkQXiHz7WUQZ', 'spotify:track:7mliwEVqxIuwLmHdTXlBrx', 'spotify:track:7kNlRLC9PEH8nXMVawssMx', 'spotify:track:52JyHLUiugFECIYBWM2qdh', 'spotify:track:6UaRii9AH6Zss9xNMEQ2M9', 'spotify:track:0qcjuYtMWhBjXg0Xwt5SzS', 'spotify:track:31G9RaSaDOI2NWcpnIp734', 'spotify:track:2TfSHkHiFO4gRztVIkggkE', 'spotify:track:18GC3F8YPGB8CePXcTUizQ', 'spotify:track:1eLU27PPFxBhbp1CBjPh9J', 'spotify:track:29Key5Lj0YlIMH8JzRDy6U', 'spotify:track:5wBLDkxVvclanSitx5jq8e', 'spotify:track:5koyOdvQU9AUgPMA14N4mD', 'spotify:track:3xVtc7PB4V3AqAfq4Iahli', 'spotify:track:0TGhIWoWgjiQAdlnaIDi53', 'spotify:track:0COqiPhxzoWICwFCS4eZcp', 'spotify:track:7GocZABwjdTgzCADHsJqTF', 'spotify:track:6LxSe8YmdPxy095Ux6znaQ', 'spotify:track:3Xfg7AegXaDLoD5GOUMf2e', 'spotify:track:40rvBMQizxkIqnjPdEWY1v', 'spotify:track:722tgOgdIbNe3BEyLnejw4', 'spotify:track:5WBnKCEsPwsvWHUZmLjS3s', 'spotify:track:7rqyZM53JpYj86avtfmyeg', 'spotify:track:3CVPyuuD6HxWXgPbbGqbg6', 'spotify:track:1fb6b2Mas9q2mWxJazzeRI', 'spotify:track:1ULa3GfdMKs0MfRpm6xVlu', 'spotify:track:4jtyUzZm9WLc2AdaJ1dso7', 'spotify:track:7GqXcMf2Pnbz8pWn3lQeJr', 'spotify:track:19gEmPjfqSZT0ulDRfjl0m', 'spotify:track:1BwhFXqoIsePt21WyWIttb', 'spotify:track:0mZriPjLPG9PExNzKQ3NVS', 'spotify:track:4QBOTing2ml9E4LqpcV8yC', 'spotify:track:7D9jzULFcvjK7dj1KZngkL', 'spotify:track:7IDKIfRltN07TdsdTVtRHh', 'spotify:track:5SsR3wtCOafDmZgvIdRhSm', 'spotify:track:6HfOzLLjsaXsehIFEsrxTk', 'spotify:track:4LoMziEaxdkrSMXtavIJqL', 'spotify:track:04KJ4NGb2T22y26sTO41Q0', 'spotify:track:63daATqOdx3odypMZP2eUt', 'spotify:track:2JdUnLmK3YSFyeNvpgqQc4', 'spotify:track:11fPH8NoSw15IG5hWk5zLL', 'spotify:track:5c5a2Ptu8eyIpljhQHjIqk', 'spotify:track:6j8lAie0mdUNreql5d5Ejz', 'spotify:track:3C3cr2JQwXIhqAHqOardVO', 'spotify:track:4VqPOruhp5EdPBeR92t6lQ', 'spotify:track:5G1sTBGbZT5o4PNRc75RKI', 'spotify:track:4RdRa3qq0GBSKjomxrkh5K', 'spotify:track:0a7BloCiNzLDD9qSQHh5m7', 'spotify:track:3uya2Ph2zB84JMR28vqWK0', 'spotify:track:2GD8Ia7rtJzfgTIy20TaRI', 'spotify:track:7nZGbjwTis0dJGaupJo1Pb', 'spotify:track:26HZ4xullUsdyMx8QnCbmO', 'spotify:track:3JOdLCIBzQYwHIvpN3isVf', 'spotify:track:6REiraH7Pe3akd0mkFA4l9', 'spotify:track:2ehVJeA8x2G6oU2OerDsUu', 'spotify:track:3mMcONXl666919f7y6tA5j', 'spotify:track:3iag81mU7BylirRwRYXd8E', 'spotify:track:3iag81mU7BylirRwRYXd8E', 'spotify:track:7HNpXPaTcX5CoNBjTAEWBr', 'spotify:track:5NLuC70kZQv8q34QyQa1DP', 'spotify:track:0zO8ctW0UiuOefR87OeJOZ', 'spotify:track:7Jq9mLYICt8H6Lr0PRCLFn', 'spotify:track:1SUlp88ERu0sH178PG6bwC', 'spotify:track:2MYl0er3UZ1RlKwRb5LODh', 'spotify:track:2oMOqX9k4k16odibNkYyrD', 'spotify:track:5P4KMR8aiKtz2WFxNVYChF', 'spotify:track:240mp2P9Iv7iqG30Y8eu3L', 'spotify:track:44lUcHz7LXhvdlwLy8WsBg', 'spotify:track:4w7yrP4RAeeyhfG9nJqQvS', 'spotify:track:6bxUnsSGZCmoHHU5auwtps', 'spotify:track:3mMcONXl666919f7y6tA5j', 'spotify:track:7KckPfBROFq1qKlBPdIdOJ', 'spotify:track:2GTBnTnkvaNhVg7ADGnVzN', 'spotify:track:3asFGFY3uLjMDmML1p0tYm', 'spotify:track:15DLl1r2zi07Ssq5RT1yT0', 'spotify:track:6wqJeItl3Vc3az4ZicSQAB', 'spotify:track:5hheGdf1cb4rK0FNiedCfK', 'spotify:track:71dRBSmaKMdaFZPeZlVzf5', 'spotify:track:6TnDdpaGhuNYxUmj9aGMR4', 'spotify:track:7DTlsMOQjGysXHpwwpHuPl', 'spotify:track:1igCEsf91tYM8RB56YgHvZ', 'spotify:track:4Tjh34RS4ACZ6f6srlDBg8', 'spotify:track:0BlNkCzdgYi9eJXwnYUho9', 'spotify:track:0biGKHOtNVGM14sRSztyKq', 'spotify:track:58lZHE1P9WuNtoKJl9EoC7', 'spotify:track:0Yk3FzkNpuZUYY59j9p6eN', 'spotify:track:50w6PJJmcNzmqlQwts40x1', 'spotify:track:6IlQTriFgUeEbVx3Y10sia', 'spotify:track:16qYlQ6koFxYVbiJbGHblz', 'spotify:track:1Ora7FZJR5xWId7upB1dlo', 'spotify:track:0DknII9CrtEehLjFpO4c2R', 'spotify:track:1j6kDJttn6wbVyMaM42Nxm', 'spotify:track:0Kojfmpnf0A2yC1zyv39Zx', 'spotify:track:74kniUex3nMuYB60moE59k', 'spotify:track:4scpF6J5uMBvoh6sFB7EL1', 'spotify:track:45u83Y1YHDC1nYve0NGozt', 'spotify:track:7DTlsMOQjGysXHpwwpHuPl', 'spotify:track:62vpWI1CHwFy7tMIcSStl8', 'spotify:track:4ExLmQ4fkm68CapBscxkYK', 'spotify:track:5s9sZ2i76iAZeFt5f9uUKP', 'spotify:track:5eGEc27nnhtmcOh6RC890a', 'spotify:track:18ohWhzbMCynq5QJ68ifkW', 'spotify:track:0ntDW0sKgEXyXhz8DVd42r', 'spotify:track:7EOgYEXi2w5SOcNVCjCvzy', 'spotify:track:42zd6DYQ4o4SECmTITrM1U', 'spotify:track:1tv6IvWoOilhj0XbBoVVMo', 'spotify:track:0ct6r3EGTcMLPtrXHDvVjc', 'spotify:track:3BWbj5NXUgr0hK7PmFSI9D', 'spotify:track:1jROHCeEzDr6VnV8EnBnik', 'spotify:track:6TfBA04WJ3X1d1wXhaCFVT', 'spotify:track:3T76zPJz3tWL27FrjJe2ot', 'spotify:track:3PLN4aXK0A8B76p0OYUDFd', 'spotify:track:5T8t1yJwAf6Dr6fIFGPjro', 'spotify:track:5Az8KU81g2aLBbJN67F2CI', 'spotify:track:1KDYN3odJHnj9pqGHN3FVs', 'spotify:track:1fLdeDTrJWNkwOeFyAVLvF', 'spotify:track:27eO3EGKIUU7yug1eOxUZu', 'spotify:track:4E92bmgFiHxvy2SNjXjC3b', 'spotify:track:0z5ZPs57J2KERwM1tBM2GF', 'spotify:track:6v2eEC9Nr9POe5xPUm8361', 'spotify:track:0z5ZPs57J2KERwM1tBM2GF', 'spotify:track:0z5ZPs57J2KERwM1tBM2GF', 'spotify:track:5Mtt6tZSZA9cXTHGSGpyh0', 'spotify:track:2HbKqm4o0w5wEeEFXm2sD4', 'spotify:track:2kfpH2OAAdpk5J3JaraAIh', 'spotify:track:29gsi1zZrZxdStACmTQB0Z', 'spotify:track:1yKu2MhpwzDXXH2tzG6xoa', 'spotify:track:2DVUJ7LTIOEQqjfOZXs8iU', 'spotify:track:3pi3WlGV7JinOxzqnBkNFi', 'spotify:track:1SZoPX6yKcuejHQ49DtDxr', 'spotify:track:01a0J96fRD91VnjQQUCqMK', 'spotify:track:37EDnGj3yFe5Hs4Zk3s3YF', 'spotify:track:4lcpWCMFXNhvqNIQhB6yDv', 'spotify:track:7gDwRzJhLs0fFHaGtMDJVM', 'spotify:track:1HNs07uZxZniPNmniw2GTa', 'spotify:track:79reBHqpRoWXaQbjBBY3UC', 'spotify:track:5cS9jJbwirKrdDIbbAExUz', 'spotify:track:3bnVBN67NBEzedqQuWrpP4', 'spotify:track:07BuyVse8pYAWd9DXD7B2D', 'spotify:track:4zGvb8hxGLB2jEPRFiRRqw', 'spotify:track:3HooZZPp0evFShqaJ2Pwer', 'spotify:track:5hMxgvMmI99alD8JJpjO0w', 'spotify:track:2l57cfmCnOkwNX1tky02n1', 'spotify:track:1jvqZQtbBGK5GJCGT615ao', 'spotify:track:2pcwmk8c1pTYwX0COSVX52', 'spotify:track:5wQnmLuC1W7ATsArWACrgW', 'spotify:track:3tZlxGCaynTIKK83TF4uPB', 'spotify:track:4MA2EibH9eGHgkbaTnJ3CR', 'spotify:track:3fyMH1t6UPeR5croea9PrR', 'spotify:track:6BdgtqiV3oXNqBikezwdvC']}, vector=None, shard_key=None, order_value=None), ScoredPoint(id=2009, version=270, score=0.0, payload={'name': 'Pre game', 'tracks': ['spotify:track:2UmtjSvU9FOVKJH9trz7Ht', 'spotify:track:7JpewU9FPkJyiOi0CErkpI', 'spotify:track:4bTP7W5HEJYG0jR6EMfNka', 'spotify:track:0bp9B38gfKhOxUx1CUu4Ph', 'spotify:track:1BfPC2cHY3m9RIstE4cjr5', 'spotify:track:6ZhalpdZcc0Yv5EhtZxRBF', 'spotify:track:0KVNhJ00PhLs7cXBLlw8Eq', 'spotify:track:32tBNiuuQtkUG5eBWpC0oQ', 'spotify:track:7wfwhoB3OAzKElXW3tGgrf', 'spotify:track:66WcaWVGRFmpx0euxmw9yM', 'spotify:track:1PBk2knn4anq0vaS5KGDG2', 'spotify:track:0lMrWcrVXHPEuVBuc0nRzZ', 'spotify:track:2zQpjL265aTmcT9rny6qot', 'spotify:track:2gPl93XdGnfKUykwxVHUYt', 'spotify:track:5wnfZ7VjDpZNyfJkqc9I1d', 'spotify:track:6ctwAh5yRyxCvMmyVR5BOa', 'spotify:track:7BnlOFearqkOjV8i92uuua', 'spotify:track:2rgtCOVK2tpfao2VjURn84', 'spotify:track:1TVvzxDIqb8UxzDG6V8FLB', 'spotify:track:54oACFHRfeOa7VD0FTQSkJ', 'spotify:track:7bFElqzAlHXnnINRBXRQbK', 'spotify:track:4LoMziEaxdkrSMXtavIJqL', 'spotify:track:4X5f3vT8MRuXF68pfjNte5', 'spotify:track:2rzBvHM9h36Tpdj7Jdajka', 'spotify:track:4l59QWcA9F9qqvNc5pwDtL', 'spotify:track:2KznhlV2kNXFaOlZ4VZ8mI', 'spotify:track:6O6M7pJLABmfBRoGZMu76Y', 'spotify:track:1y9WGfneldwNla7V23z1Xu', 'spotify:track:2kzRSiyignH8yzPTrWvyPo', 'spotify:track:2n5gVJ9fzeX2SSWlLQuyS9', 'spotify:track:3jUdqLNmjpqJvti99ygpSs', 'spotify:track:72gdVxZ1R0a4goiltMn9tj', 'spotify:track:3tugRdHeGrerBsXlYoMyo9', 'spotify:track:6jNM6fKx3WnyHbWBI9hs2r', 'spotify:track:3Kh4HnbBXebv30TA6wDM6O', 'spotify:track:7K7Ufgd41kEX2tdqFxmIWD', 'spotify:track:5O2Yjlcs5pSpHq1gcA0cwg', 'spotify:track:0qm6euAbq1e8SttfNEQECV', 'spotify:track:24b20V609aI0WJ8LyxR8qx', 'spotify:track:3unsYB6RvtXYBhxL6c5G5S', 'spotify:track:3cVEDhybwHmEBpKnHWgzDy', 'spotify:track:39Y7nKwnEoMSfzbSVcAL0J', 'spotify:track:79XrkTOfV1AqySNjVlygpW', 'spotify:track:27GmP9AWRs744SzKcpJsTZ', 'spotify:track:7jslhIiELQkgW9IHeYNOWE', 'spotify:track:5lFDtgWsjRJu8fPOAyJIAK', 'spotify:track:1ID1QFSNNxi0hiZCNcwjUC', 'spotify:track:4wckW1OjAM2z6elKQdqUpi', 'spotify:track:39RWgrQOBCLQH88wy0TBm9', 'spotify:track:6KQEXfAdNQ85TabNo6mNIk', 'spotify:track:4iq3zHwgHSxstFvYw4yIsQ', 'spotify:track:7clUOYJb0WsAgFQEgDxSIT', 'spotify:track:1FfxSgLHUkNCCLdZ7wrCTY', 'spotify:track:3a8tAZFJxlmBwOtrf5L1oC', 'spotify:track:10I3CmmwT0BkOVhduDy53o', 'spotify:track:2UyQQjPjq4nA7mYivEkzRx', 'spotify:track:1JrBltI843frcNEg9FT74Q', 'spotify:track:3vWtNiug49addenxdTmDXf', 'spotify:track:3cKuHj37BQXHQVjPplPqnd', 'spotify:track:0PqUxCPmkCGs4RR33t9g4U', 'spotify:track:1KKx5Da0qIOxSTkvxJapQ4', 'spotify:track:1AIPfvJztNqIoUGQ4o7PWP', 'spotify:track:4zl9PlxEgWnlAywWZjV4IR', 'spotify:track:2x50fMpSjA2WWmptDUStS9', 'spotify:track:74mukPvkIBZYMf164dkk7R', 'spotify:track:7ri4jOlUUpAOivi56ONeTm', 'spotify:track:4F1GNyFyinJH9W50pJO0RR', 'spotify:track:6aCxdt2bMItKgGKoznDppY', 'spotify:track:6ekV6MGnPTuCOnjB4VcWGc', 'spotify:track:7BKLCZ1jbUBVqRi2FVlTVw', 'spotify:track:376KnY4TrgBITxjlnbnmIy', 'spotify:track:0Q3SC6kEhxYagDP3bFe5K9', 'spotify:track:4yNoaxUJjnP50AXYoAZx4S', 'spotify:track:6y3IyUWmMpCZc2cTIMSHQ7', 'spotify:track:3qO8p5ccCElEk2MMAI0u4J', 'spotify:track:41oWiFvBdeS6srKVl20hmt', 'spotify:track:7zSxnkB1eqbD1u71pH2PY8', 'spotify:track:2CyxsWXNNSJz4HG7cTeeSs', 'spotify:track:5tsI3xxDHDgzHhn30LTQNz', 'spotify:track:2c8sgbZoEanC3QyFNZxUcA', 'spotify:track:1R2rmmUufa1tdiD9j9Qs3x', 'spotify:track:6OkP1t5se0cYZTfnNE5gC4', 'spotify:track:4is6Z7ZZkQKxezliMAVah7', 'spotify:track:4KjjVan1xsg2XPRNr5lknO', 'spotify:track:1s40vKulits5QDOQShN5IY', 'spotify:track:5HN16r4hXgtiKHCER5sSF5', 'spotify:track:4ntsD33Pgsgk8rUyZLLiUV', 'spotify:track:5UNaDiEMfqsRRtkXO6rXkR', 'spotify:track:5NFYuqu8V6QXc6mzcLImd6', 'spotify:track:3LwYGYpsg5SQioMX5BwFAz', 'spotify:track:2fOFZSdaXGhq53EfIiUT5g', 'spotify:track:2B00MZNljOitCgetHiNcxf', 'spotify:track:3zCDpMSxPum6hANAKIskNu', 'spotify:track:0gSPZbPHMQgL4YaEghgoCQ', 'spotify:track:40YcuQysJ0KlGQTeGUosTC', 'spotify:track:77dBKEJtA1KqAmAE6cn4zM', 'spotify:track:6QvxTX9zvo4u7XhP9vOP3n', 'spotify:track:1pgyHZNpzYB4aRUdD0dQgI', 'spotify:track:7qqtYJj2vaSiZcYq4AyIne', 'spotify:track:7uSZPbd8DxdkmSauCKnITY', 'spotify:track:6LDctrSCmYUdTi5jDxzm9Y', 'spotify:track:3FiWCRN1yAALM4ovdukb8F', 'spotify:track:21Kcqz2KMsg8J1vMvbiZno', 'spotify:track:7c6mnuoAHoopR1Ti2bCKz2', 'spotify:track:0B7BfQYgZX8ZwfAs3Brhl0', 'spotify:track:26oF6WjkOjDIRK9YsdZp2l', 'spotify:track:7zFNXeOnvAR3YD9BfPWon9', 'spotify:track:4Q3N4Ct4zCuIHuZ65E3BD4', 'spotify:track:1ussBBTb7qmnMqDVJk1Ua9', 'spotify:track:1RxwkmMgJS7l2VYCgJ8KMn', 'spotify:track:4dPO51zk2BiD4Zs2N4HbVc', 'spotify:track:6yFiHg5RM5zGVrXGIokWlL', 'spotify:track:3pfO7UQoYiX28WSTBR6Vl3', 'spotify:track:1r0faljjM2b876iNoaDUh5', 'spotify:track:0rBMP6VVGRgwnzZCLpijyl', 'spotify:track:03kwrTKNVdJdBqF1W4BW8G', 'spotify:track:3dl5CWbfg1MnCovkvdL4HJ']}, vector=None, shard_key=None, order_value=None)]\n"
     ]
    }
   ],
   "source": [
    "client = QdrantClient(\n",
    "        url=QDRANT_URL,\n",
    "        api_key=QDRANT_API_KEY,\n",
    "    )\n",
    "\n",
    "query_vec = name_vectors[0].toarray().flatten().tolist()\n",
    "n_neighbors = 5\n",
    "\n",
    "search_result = client.query_points(\n",
    "        collection_name=COLLECTION_NAME,\n",
    "        query=query_vec,\n",
    "        limit=n_neighbors,\n",
    "        timeout=60,\n",
    "    )\n",
    "\n",
    "print(\"Search results:\", search_result)    "
   ]
  },
  {
   "cell_type": "code",
   "execution_count": 36,
   "id": "fae0a4f3",
   "metadata": {},
   "outputs": [
    {
     "name": "stdout",
     "output_type": "stream",
     "text": [
      "['spotify:track:1djfwy9FvafpK4KhznjjeI', 'spotify:track:2Zy7XVdxyZQB8xp5xbpJdl', 'spotify:track:75Y0HwWBQAJInFaKb10Ogh', 'spotify:track:3vR6ivBSe0SWntHyEzh4X1', 'spotify:track:4EpDZxSApKaod3PVqT5ben', 'spotify:track:25rc1PFgPvtV6GFSloyOI0', 'spotify:track:2AGUFka8kBWCM47h5uTlDb', 'spotify:track:0UAmPUdpTRq8w54B3H8TzY', 'spotify:track:7i5mufbqmLZ4Ae7JnmLqp6', 'spotify:track:6QwwsJC57SitPcWuyEpuwd', 'spotify:track:2n5gVJ9fzeX2SSWlLQuyS9', 'spotify:track:32SFvZODywPBVDYSYtqxCj', 'spotify:track:7xVLFuuYdAvcTfcP3IG3dS', 'spotify:track:7rSERmjAT38lC5QhJ8hnQc', 'spotify:track:7GZ6edN5wxF9icp7wIUoR8', 'spotify:track:68LR4RQ7JLHwRodWxPOB0k', 'spotify:track:6t2eIONH4Sax3R21QWiKNp', 'spotify:track:5mB1bWU8VueYVxuvcLPn2B', 'spotify:track:4bdJHQp90ymjEIkkYhcENB', 'spotify:track:2tT0H3A0hNTPbJFRoiZc6x', 'spotify:track:6ekV6MGnPTuCOnjB4VcWGc', 'spotify:track:0B8QzDH7YWih85V5SEMnyJ', 'spotify:track:1Uh36HwT2nXXw1nF0OXa34', 'spotify:track:4afMG2PlvFfX976bZJvHmb', 'spotify:track:5oyUurs28XRagLa8lgm6V3', 'spotify:track:6VZ10jug9GcFvNjd6w8kSI', 'spotify:track:7yyRTcZmCiyzzJlNzGC9Ol', 'spotify:track:40yJGQyEaBbIkXpwMFkXip', 'spotify:track:2UmtjSvU9FOVKJH9trz7Ht', 'spotify:track:7JpewU9FPkJyiOi0CErkpI', 'spotify:track:49zD0wr2S3d0lZPib0K4e1', 'spotify:track:1j6kDJttn6wbVyMaM42Nxm', 'spotify:track:20fAoPjfYltmd3K3bO7gbt', 'spotify:track:0z5ZPs57J2KERwM1tBM2GF']\n"
     ]
    }
   ],
   "source": [
    "print(search_result.points[0].payload['tracks'])"
   ]
  },
  {
   "cell_type": "code",
   "execution_count": null,
   "id": "33af0600",
   "metadata": {},
   "outputs": [],
   "source": [
    "print(search_result.points.tracks)"
   ]
  },
  {
   "cell_type": "code",
   "execution_count": null,
   "id": "984e371f",
   "metadata": {},
   "outputs": [],
   "source": [
    "from qdrant_client import QdrantClient\n",
    "import os\n",
    "from sklearn.feature_extraction.text import TfidfVectorizer\n",
    "\n",
    "QDRANT_URL = \"https://ede2a3a4-b5e3-418b-8b33-c78597d0190d.europe-west3-0.gcp.cloud.qdrant.io\"\n",
    "QDRANT_API_KEY = os.getenv(\"QDRANT_API_KEY\")\n",
    "COLLECTION_NAME = \"playlists\"\n",
    "\n",
    "# Assumes you have a trained vectorizer and valid_tracks_dict\n",
    "# vectorizer: TfidfVectorizer = ...  # your trained TF-IDF vectorizer\n",
    "\n",
    "def recommend_from_qdrant(playlist_name, k=10, n_neighbors=5):\n",
    "    query_vec = vectorizer.transform([playlist_name]).toarray()[0]\n",
    "\n",
    "    client = QdrantClient(\n",
    "        url=QDRANT_URL,\n",
    "        api_key=QDRANT_API_KEY,\n",
    "    )\n",
    "\n",
    "    search_result = client.query_points(\n",
    "        collection_name=COLLECTION_NAME,\n",
    "        query=query_vec,\n",
    "        limit=n_neighbors,\n",
    "        timeout=60,\n",
    "    )\n",
    "\n",
    "    # Aggregate recommended tracks\n",
    "    recommended_tracks = []\n",
    "    for point in search_result.points:\n",
    "        tracks = point.payload.get(\"tracks\", [])\n",
    "        recommended_tracks.extend(tracks)\n",
    "\n",
    "    # Deduplicate while preserving order\n",
    "    return list(dict.fromkeys(recommended_tracks))[:k]\n"
   ]
  },
  {
   "cell_type": "code",
   "execution_count": 43,
   "id": "22d245aa",
   "metadata": {},
   "outputs": [
    {
     "name": "stdout",
     "output_type": "stream",
     "text": [
      "['Una Vaina Loca', 'Lovumba', 'Ai Se Eu Te Pego (Nossa Nossa)', 'Danza Kuduro', 'Pégate Más', 'Pura Vida', 'Limbo', 'Moviendo Caderas', \"Echa Pa'lla (Manos Pa'rriba)\", 'La Botella (feat. Cali Y El Dandee)']\n"
     ]
    }
   ],
   "source": [
    "import asyncio\n",
    "\n",
    "recommended_rock = recommend_from_qdrant(\"latin\", k=10)\n",
    "print([valid_tracks_dict.get(uri, {}).get('track_name', 'unknown') for uri in recommended_rock])\n"
   ]
  },
  {
   "cell_type": "code",
   "execution_count": 42,
   "id": "0c993455",
   "metadata": {},
   "outputs": [
    {
     "data": {
      "text/plain": [
       "['tfidf_vectorizer.pkl']"
      ]
     },
     "execution_count": 42,
     "metadata": {},
     "output_type": "execute_result"
    }
   ],
   "source": [
    "import joblib\n",
    "joblib.dump(vectorizer, 'tfidf_vectorizer.pkl')"
   ]
  }
 ],
 "metadata": {
  "kernelspec": {
   "display_name": "recommender_system",
   "language": "python",
   "name": "python3"
  },
  "language_info": {
   "codemirror_mode": {
    "name": "ipython",
    "version": 3
   },
   "file_extension": ".py",
   "mimetype": "text/x-python",
   "name": "python",
   "nbconvert_exporter": "python",
   "pygments_lexer": "ipython3",
   "version": "3.11.11"
  }
 },
 "nbformat": 4,
 "nbformat_minor": 5
}
