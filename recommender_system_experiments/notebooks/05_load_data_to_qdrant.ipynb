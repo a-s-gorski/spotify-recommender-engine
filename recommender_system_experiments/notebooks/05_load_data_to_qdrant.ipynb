{
 "cells": [
  {
   "cell_type": "code",
   "execution_count": 1,
   "id": "379da5f6",
   "metadata": {},
   "outputs": [
    {
     "name": "stdout",
     "output_type": "stream",
     "text": [
      "Note: you may need to restart the kernel to use updated packages.\n"
     ]
    }
   ],
   "source": [
    "%pip install -q qdrant-client python-dotenv aiohttp nest_asyncio"
   ]
  },
  {
   "cell_type": "code",
   "execution_count": 1,
   "id": "ca9fba08",
   "metadata": {},
   "outputs": [],
   "source": [
    "import pickle\n",
    "from pathlib import Path\n",
    "from tqdm import tqdm\n",
    "from sklearn.feature_extraction.text import TfidfVectorizer\n",
    "from sklearn.model_selection import train_test_split\n",
    "import numpy as np\n",
    "from qdrant_client import QdrantClient\n",
    "from qdrant_client.models import VectorParams, Distance, PointStruct\n",
    "import os\n",
    "from dotenv import load_dotenv"
   ]
  },
  {
   "cell_type": "code",
   "execution_count": null,
   "id": "6d9a256c",
   "metadata": {},
   "outputs": [],
   "source": [
    "# load_dotenv()\n",
    "# qdrant_api_key = os.getenv(\"QDRANT_API_KEY\")"
   ]
  },
  {
   "cell_type": "code",
   "execution_count": 2,
   "id": "d64e07d0",
   "metadata": {},
   "outputs": [],
   "source": [
    "input_path = \"processed/01_filtered/\"\n",
    "\n",
    "with open(Path(input_path) / \"filtered_playlists.pkl\", \"rb\") as f:\n",
    "    playlists = pickle.load(f)  # list of lists of track_uris\n",
    "\n",
    "with open(Path(input_path) / \"valid_tracks.pkl\", \"rb\") as f:\n",
    "    valid_tracks_dict = pickle.load(f)  # dict from track_uri -> metadata dict"
   ]
  },
  {
   "cell_type": "code",
   "execution_count": 3,
   "id": "c16e6a4b",
   "metadata": {},
   "outputs": [
    {
     "name": "stderr",
     "output_type": "stream",
     "text": [
      "Filtering playlists: 100%|██████████| 774682/774682 [00:02<00:00, 330907.69it/s]\n"
     ]
    }
   ],
   "source": [
    "def filter_valid_tracks(playlists, valid_tracks):\n",
    "    filtered = []\n",
    "    for pl in tqdm(playlists, total=len(playlists), desc=\"Filtering playlists\"):\n",
    "        filtered_tracks = [t for t in pl['tracks'] if t in valid_tracks]\n",
    "        filtered.append({'name': pl['name'], 'tracks': filtered_tracks})\n",
    "    return filtered\n",
    "\n",
    "filtered_playlists = filter_valid_tracks(playlists, valid_tracks_dict)\n",
    "filtered_playlists = [p for p in filtered_playlists if len(p['tracks']) >= 5]"
   ]
  },
  {
   "cell_type": "code",
   "execution_count": 4,
   "id": "dd415a8e",
   "metadata": {},
   "outputs": [],
   "source": [
    "# --- Split data ---\n",
    "train_playlists, test_playlists = train_test_split(filtered_playlists, test_size=0.1, random_state=42)\n",
    "train_names = [p['name'] for p in train_playlists]\n",
    "train_tracks = [p['tracks'] for p in train_playlists]\n",
    "\n",
    "# --- Fit TF-IDF Vectorizer ---\n",
    "vectorizer = TfidfVectorizer(max_features=1000, stop_words='english', lowercase=True, token_pattern=r'\\b\\w+\\b')\n",
    "name_vectors = vectorizer.fit_transform(train_names)"
   ]
  },
  {
   "cell_type": "code",
   "execution_count": 5,
   "id": "fa636ea0",
   "metadata": {},
   "outputs": [
    {
     "data": {
      "text/plain": [
       "['vectorizer.pkl']"
      ]
     },
     "execution_count": 5,
     "metadata": {},
     "output_type": "execute_result"
    }
   ],
   "source": [
    "import joblib\n",
    "\n",
    "joblib.dump(vectorizer, \"vectorizer.pkl\")"
   ]
  },
  {
   "cell_type": "code",
   "execution_count": 7,
   "id": "bcc8fdfb",
   "metadata": {},
   "outputs": [
    {
     "name": "stdout",
     "output_type": "stream",
     "text": [
      "1000\n"
     ]
    }
   ],
   "source": [
    "print(name_vectors.shape[1])"
   ]
  },
  {
   "cell_type": "code",
   "execution_count": null,
   "id": "e4b7a615",
   "metadata": {},
   "outputs": [],
   "source": [
    "QDRANT_URL = \"your_qdrant_url\"  # e.g., \"http://localhost:6333\"\n",
    "QDRANT_API_KEY = os.getenv(\"QDRANT_API_KEY\")\n",
    "COLLECTION_NAME = \"playlists\"\n",
    "VECTOR_DIM = 768           # Adjust if your real vectors differ\n",
    "NUM_PLAYLISTS = 1000       # For testing, reduce to avoid crashes\n",
    "BATCH_SIZE = 300           # Batch size for uploads\n",
    "MAX_CONCURRENCY = 4        # Simultaneous batches\n",
    "\n",
    "client = QdrantClient(\n",
    "    url=\"localhost\",\n",
    "    port=6333\n",
    ")\n",
    "\n",
    "collection_name = \"playlists\"\n",
    "\n",
    "\n",
    "# Recreate collection\n",
    "if collection_name in [c.name for c in client.get_collections().collections]:\n",
    "    client.delete_collection(collection_name)\n",
    "\n",
    "if not client.collection_exists(collection_name):\n",
    "    client.create_collection(\n",
    "        collection_name=collection_name,\n",
    "        vectors_config=VectorParams(size=name_vectors.shape[1], distance=Distance.COSINE)\n",
    "    )\n",
    "\n",
    "# client.recreate_collection(\n",
    "#     collection_name=collection_name,\n",
    "#     vectors_config=VectorParams(size=name_vectors.shape[1], distance=Distance.COSINE)\n",
    "# )"
   ]
  },
  {
   "cell_type": "code",
   "execution_count": 8,
   "id": "c9ef56b1",
   "metadata": {},
   "outputs": [
    {
     "name": "stdout",
     "output_type": "stream",
     "text": [
      "status=<CollectionStatus.GREEN: 'green'> optimizer_status=<OptimizersStatusOneOf.OK: 'ok'> vectors_count=None indexed_vectors_count=0 points_count=0 segments_count=8 config=CollectionConfig(params=CollectionParams(vectors=VectorParams(size=1000, distance=<Distance.COSINE: 'Cosine'>, hnsw_config=None, quantization_config=None, on_disk=None, datatype=None, multivector_config=None), shard_number=1, sharding_method=None, replication_factor=1, write_consistency_factor=1, read_fan_out_factor=None, on_disk_payload=True, sparse_vectors=None), hnsw_config=HnswConfig(m=16, ef_construct=100, full_scan_threshold=10000, max_indexing_threads=0, on_disk=False, payload_m=None), optimizer_config=OptimizersConfig(deleted_threshold=0.2, vacuum_min_vector_number=1000, default_segment_number=0, max_segment_size=None, memmap_threshold=None, indexing_threshold=20000, flush_interval_sec=5, max_optimization_threads=None), wal_config=WalConfig(wal_capacity_mb=32, wal_segments_ahead=0), quantization_config=None, strict_mode_config=StrictModeConfigOutput(enabled=False, max_query_limit=None, max_timeout=None, unindexed_filtering_retrieve=None, unindexed_filtering_update=None, search_max_hnsw_ef=None, search_allow_exact=None, search_max_oversampling=None, upsert_max_batchsize=None, max_collection_vector_size_bytes=None, read_rate_limit=None, write_rate_limit=None, max_collection_payload_size_bytes=None, max_points_count=None, filter_max_conditions=None, condition_max_size=None, multivector_config=None, sparse_config=None)) payload_schema={}\n"
     ]
    }
   ],
   "source": [
    "collection_info = client.get_collection(collection_name=collection_name)\n",
    "vectors_config = collection_info\n",
    "print(collection_info)\n"
   ]
  },
  {
   "cell_type": "code",
   "execution_count": 9,
   "id": "b42664d3",
   "metadata": {},
   "outputs": [],
   "source": [
    "import nest_asyncio\n",
    "import asyncio\n",
    "\n",
    "nest_asyncio.apply()  # allow nested event loops in notebook"
   ]
  },
  {
   "cell_type": "code",
   "execution_count": null,
   "id": "4844a9b9",
   "metadata": {},
   "outputs": [],
   "source": [
    "from qdrant_client import AsyncQdrantClient\n",
    "from qdrant_client.http.models import PointStruct as AsyncPointStruct\n",
    "from tqdm.notebook import tqdm\n",
    "\n",
    "BATCH_SIZE = 256\n",
    "\n",
    "async def async_upload_qdrant(name_vectors, train_names, train_tracks):\n",
    "\n",
    "    async_client = AsyncQdrantClient(    \n",
    "        url=\"localhost\",\n",
    "        port=6333)\n",
    "\n",
    "    total = len(train_names)\n",
    "\n",
    "    sem = asyncio.Semaphore(8)  # limit concurrency\n",
    "\n",
    "    async def upload_batch(start_idx):\n",
    "        async with sem:\n",
    "            batch_names = train_names[start_idx:start_idx + BATCH_SIZE]\n",
    "            batch_vectors = name_vectors[start_idx:start_idx + BATCH_SIZE]\n",
    "            batch_tracks = train_tracks[start_idx:start_idx + BATCH_SIZE]\n",
    "\n",
    "            points = []\n",
    "            for j, (name, vec, tracks) in enumerate(zip(batch_names, batch_vectors, batch_tracks)):\n",
    "                idx = start_idx + j\n",
    "                vector = vec.toarray().flatten().tolist()\n",
    "                payload = {\n",
    "                    \"name\": name,\n",
    "                    \"tracks\": tracks\n",
    "                }\n",
    "                points.append(AsyncPointStruct(id=idx, vector=vector, payload=payload))\n",
    "\n",
    "            await async_client.upsert(collection_name=collection_name, points=points)\n",
    "\n",
    "    tasks = [upload_batch(i) for i in range(0, total, BATCH_SIZE)]\n",
    "\n",
    "    for f in tqdm(asyncio.as_completed(tasks), total=len(tasks), desc=\"Uploading to Qdrant\"):\n",
    "        await f\n",
    "\n",
    "    await async_client.close()"
   ]
  },
  {
   "cell_type": "code",
   "execution_count": 11,
   "id": "e42f4249",
   "metadata": {},
   "outputs": [
    {
     "data": {
      "application/vnd.jupyter.widget-view+json": {
       "model_id": "1fd134010f3240419539adccb55cb032",
       "version_major": 2,
       "version_minor": 0
      },
      "text/plain": [
       "Uploading to Qdrant:   0%|          | 0/1804 [00:00<?, ?it/s]"
      ]
     },
     "metadata": {},
     "output_type": "display_data"
    }
   ],
   "source": [
    "async def main():\n",
    "    await async_upload_qdrant(name_vectors, train_names, train_tracks)\n",
    "\n",
    "asyncio.run(main())"
   ]
  },
  {
   "cell_type": "code",
   "execution_count": 12,
   "id": "bb40f206",
   "metadata": {},
   "outputs": [
    {
     "name": "stdout",
     "output_type": "stream",
     "text": [
      "Search results: points=[ScoredPoint(id=198999, version=1752, score=1.0, payload={'name': 'Running', 'tracks': ['spotify:track:4WjH9Bzt3kx7z8kl0awxh4', 'spotify:track:4NYwy0R3NdvORX2B6OZXBT', 'spotify:track:66hayvUbTotekKU3H4ta1f', 'spotify:track:0Rz1KXsP4bhGxs0ffySSSn', 'spotify:track:0YpBHgZ9Pfr4fbiKkP9nj9', 'spotify:track:5lnsCyEKWofnC00U4Ax0ti', 'spotify:track:6jrMVRReY24qzCfe1BRrww']}, vector=None, shard_key=None, order_value=None), ScoredPoint(id=359711, version=1748, score=1.0, payload={'name': 'running', 'tracks': ['spotify:track:22L7bfCiAkJo5xGSQgmiIO', 'spotify:track:2KpCpk6HjXXLb7nnXoXA5O', 'spotify:track:03tqyYWC9Um2ZqU0ZN849H', 'spotify:track:2gam98EZKrF9XuOkU13ApN', 'spotify:track:1z6WtY7X4HQJvzxC4UgkSf', 'spotify:track:0z5ZPs57J2KERwM1tBM2GF', 'spotify:track:4Kz4RdRCceaA9VgTqBhBfa', 'spotify:track:4qikXelSRKvoCqFcHLB2H2', 'spotify:track:3H1LCvO3fVsK2HPguhbml0', 'spotify:track:0srwKuJPH8yBzzFUJMBQM2', 'spotify:track:2U8NXPTXZWG2O0ye2sYRiH', 'spotify:track:3bidbhpOYeV4knp8AIu8Xn', 'spotify:track:6qn9YLKt13AGvpq9jfO8py', 'spotify:track:0Rz1KXsP4bhGxs0ffySSSn', 'spotify:track:60wwxj6Dd9NJlirf84wr2c', 'spotify:track:3fyMH1t6UPeR5croea9PrR', 'spotify:track:6g1NlCpW7fgqDnWbCCDrHl', 'spotify:track:1BltsyC5W3SAABdxyrDXwi', 'spotify:track:6jdOi5U5LBzQrc4c1VT983', 'spotify:track:0YpBHgZ9Pfr4fbiKkP9nj9', 'spotify:track:6V2D8Lls36APk0THDjBDfE', 'spotify:track:6jG2YzhxptolDzLHTGLt7S', 'spotify:track:5l3CML2OnzfNs5RfVgbcLt', 'spotify:track:6YUTL4dYpB9xZO5qExPf05', 'spotify:track:4kgsK0fftHtg9gZOzkU5T2', 'spotify:track:3W3KtDwAIg3mAruSpnfG3Q', 'spotify:track:6MdqqkQ8sSC0WB4i8PyRuQ', 'spotify:track:4VrWlk8IQxevMvERoX08iC', 'spotify:track:3oEekS4xhmFQ88ieCVTZ7H', 'spotify:track:0Dc7J9VPV4eOInoxUiZrsL', 'spotify:track:22mek4IiqubGD9ctzxc69s', 'spotify:track:5tf1VVWniHgryyumXyJM7w', 'spotify:track:5hgnY0mVcVetszbb85qeDg', 'spotify:track:722tgOgdIbNe3BEyLnejw4', 'spotify:track:2aFiaMXmWsM3Vj72F9ksBl', 'spotify:track:6hmhG1b4LEyNuashVvuIAo', 'spotify:track:1OAiWI2oPmglaOiv9fdioU', 'spotify:track:0tICYNayWWhH9GPeFrfjfD', 'spotify:track:2XMTqoHHSH0lvuXrvIEdco', 'spotify:track:7m47Go71qTMBs4kTH7U8F8', 'spotify:track:6b8Be6ljOzmkOmFslEb23P', 'spotify:track:78rIJddV4X0HkNAInEcYde', 'spotify:track:0KKkJNfGyhkQ5aFogxQAPU', 'spotify:track:6RUKPb4LETWmmr3iAEQktW']}, vector=None, shard_key=None, order_value=None), ScoredPoint(id=457567, version=1761, score=1.0, payload={'name': 'Running', 'tracks': ['spotify:track:6V2D8Lls36APk0THDjBDfE', 'spotify:track:4kNvYhyl8R6m1vykVkcuBu', 'spotify:track:2y4lAQpi5VTNLu2ldeTdUH', 'spotify:track:6sDQ4uiWw9OdVrCXFLSlZt', 'spotify:track:0Rz1KXsP4bhGxs0ffySSSn', 'spotify:track:7tGlzXJv6GD5e5qlu5YmDg', 'spotify:track:2LvRR121MWFmmEGkuV2vQP', 'spotify:track:5AyL2kgLtTWEu3qO3B9SqK', 'spotify:track:0YpBHgZ9Pfr4fbiKkP9nj9', 'spotify:track:7uKcScNXuO3MWw6LowBjW1', 'spotify:track:0LWQWOFoz5GJLqcHk1fRO2', 'spotify:track:4Kz4RdRCceaA9VgTqBhBfa', 'spotify:track:3cHyrEgdyYRjgJKSOiOtcS', 'spotify:track:67awxiNHNyjMXhVgsHuIrs', 'spotify:track:31Q9ZTF9x81BDonlObCbvP', 'spotify:track:4kgsK0fftHtg9gZOzkU5T2', 'spotify:track:5l3CML2OnzfNs5RfVgbcLt', 'spotify:track:2dLLR6qlu5UJ5gk0dKz0h3']}, vector=None, shard_key=None, order_value=None), ScoredPoint(id=457760, version=1763, score=1.0, payload={'name': 'Running', 'tracks': ['spotify:track:0Rz1KXsP4bhGxs0ffySSSn', 'spotify:track:3AYcyxEACnmE6d96RPubID', 'spotify:track:0O45fw2L5vsWpdsOdXwNAR', 'spotify:track:6qn9YLKt13AGvpq9jfO8py', 'spotify:track:2CEgGE6aESpnmtfiZwYlbV', 'spotify:track:6qn9YLKt13AGvpq9jfO8py', 'spotify:track:6qn9YLKt13AGvpq9jfO8py', 'spotify:track:2dOTkLZFbpNXrhc24CnTFd', 'spotify:track:6C7RJEIUDqKkJRZVWdkfkH', 'spotify:track:6qn9YLKt13AGvpq9jfO8py', 'spotify:track:3bidbhpOYeV4knp8AIu8Xn', 'spotify:track:6g1NlCpW7fgqDnWbCCDrHl']}, vector=None, shard_key=None, order_value=None), ScoredPoint(id=360504, version=1757, score=1.0, payload={'name': 'Running', 'tracks': ['spotify:track:4VrWlk8IQxevMvERoX08iC', 'spotify:track:6JV2JOEocMgcZxYSZelKcc', 'spotify:track:0prNGof3XqfTvNDxHonvdK', 'spotify:track:4eLSCSELtKxZwXnFbNLXT5', 'spotify:track:7wMq5n8mYSKlQIGECKUgTX', 'spotify:track:0CcQNd8CINkwQfe1RDtGV6', 'spotify:track:72jbDTw1piOOj770jWNeaG', 'spotify:track:0tKcYR2II1VCQWT79i5NrW', 'spotify:track:7BKLCZ1jbUBVqRi2FVlTVw', 'spotify:track:5j9iuo3tMmQIfnEEQOOjxh', 'spotify:track:5Q0Nhxo0l2bP3pNjpGJwV1', 'spotify:track:3eR23VReFzcdmS7TYCrhCe', 'spotify:track:6N1EjQjnvhOjFrF6oUmGPa', 'spotify:track:6D0b04NJIKfEMg040WioJQ']}, vector=None, shard_key=None, order_value=None)]\n"
     ]
    }
   ],
   "source": [
    "client = QdrantClient(\n",
    "        url=\"localhost\",\n",
    "        port=6333)\n",
    "\n",
    "query_vec = name_vectors[0].toarray().flatten().tolist()\n",
    "n_neighbors = 5\n",
    "\n",
    "search_result = client.query_points(\n",
    "        collection_name=COLLECTION_NAME,\n",
    "        query=query_vec,\n",
    "        limit=n_neighbors,\n",
    "        timeout=60,\n",
    "    )\n",
    "\n",
    "print(\"Search results:\", search_result)    "
   ]
  },
  {
   "cell_type": "code",
   "execution_count": 13,
   "id": "fae0a4f3",
   "metadata": {},
   "outputs": [
    {
     "name": "stdout",
     "output_type": "stream",
     "text": [
      "['spotify:track:4WjH9Bzt3kx7z8kl0awxh4', 'spotify:track:4NYwy0R3NdvORX2B6OZXBT', 'spotify:track:66hayvUbTotekKU3H4ta1f', 'spotify:track:0Rz1KXsP4bhGxs0ffySSSn', 'spotify:track:0YpBHgZ9Pfr4fbiKkP9nj9', 'spotify:track:5lnsCyEKWofnC00U4Ax0ti', 'spotify:track:6jrMVRReY24qzCfe1BRrww']\n"
     ]
    }
   ],
   "source": [
    "print(search_result.points[0].payload['tracks'])"
   ]
  },
  {
   "cell_type": "code",
   "execution_count": 21,
   "id": "33af0600",
   "metadata": {},
   "outputs": [
    {
     "name": "stdout",
     "output_type": "stream",
     "text": [
      "['spotify:track:4WjH9Bzt3kx7z8kl0awxh4', 'spotify:track:4NYwy0R3NdvORX2B6OZXBT', 'spotify:track:66hayvUbTotekKU3H4ta1f', 'spotify:track:0Rz1KXsP4bhGxs0ffySSSn', 'spotify:track:0YpBHgZ9Pfr4fbiKkP9nj9', 'spotify:track:5lnsCyEKWofnC00U4Ax0ti', 'spotify:track:6jrMVRReY24qzCfe1BRrww']\n"
     ]
    }
   ],
   "source": [
    "print(search_result.points[0].payload['tracks'])"
   ]
  },
  {
   "cell_type": "code",
   "execution_count": 22,
   "id": "984e371f",
   "metadata": {},
   "outputs": [],
   "source": [
    "from qdrant_client import QdrantClient\n",
    "import os\n",
    "from sklearn.feature_extraction.text import TfidfVectorizer\n",
    "\n",
    "QDRANT_URL = \"https://ede2a3a4-b5e3-418b-8b33-c78597d0190d.europe-west3-0.gcp.cloud.qdrant.io\"\n",
    "QDRANT_API_KEY = os.getenv(\"QDRANT_API_KEY\")\n",
    "COLLECTION_NAME = \"playlists\"\n",
    "\n",
    "# Assumes you have a trained vectorizer and valid_tracks_dict\n",
    "# vectorizer: TfidfVectorizer = ...  # your trained TF-IDF vectorizer\n",
    "\n",
    "def recommend_from_qdrant(playlist_name, k=10, n_neighbors=5):\n",
    "    query_vec = vectorizer.transform([playlist_name]).toarray()[0]\n",
    "\n",
    "    client = QdrantClient(\n",
    "        url=\"localhost\",\n",
    "        port=6333\n",
    "    )\n",
    "\n",
    "    search_result = client.query_points(\n",
    "        collection_name=COLLECTION_NAME,\n",
    "        query=query_vec,\n",
    "        limit=n_neighbors,\n",
    "        timeout=60,\n",
    "    )\n",
    "\n",
    "    # Aggregate recommended tracks\n",
    "    recommended_tracks = []\n",
    "    for point in search_result.points:\n",
    "        tracks = point.payload.get(\"tracks\", [])\n",
    "        recommended_tracks.extend(tracks)\n",
    "\n",
    "    # Deduplicate while preserving order\n",
    "    return list(dict.fromkeys(recommended_tracks))[:k]\n"
   ]
  },
  {
   "cell_type": "code",
   "execution_count": 23,
   "id": "22d245aa",
   "metadata": {},
   "outputs": [
    {
     "name": "stdout",
     "output_type": "stream",
     "text": [
      "['Mercy', '6 Foot 7 Foot', 'No Type', \"I Don't Fuck With You\", 'A Milli', 'I Mean It', 'Blessings', 'Headlines', 'Legend', '0 To 100 / The Catch Up']\n"
     ]
    }
   ],
   "source": [
    "import asyncio\n",
    "\n",
    "recommended_rock = recommend_from_qdrant(\"latin\", k=10)\n",
    "print([valid_tracks_dict.get(uri, {}).get('track_name', 'unknown') for uri in recommended_rock])\n"
   ]
  },
  {
   "cell_type": "code",
   "execution_count": 24,
   "id": "0c993455",
   "metadata": {},
   "outputs": [
    {
     "data": {
      "text/plain": [
       "['tfidf_vectorizer.pkl']"
      ]
     },
     "execution_count": 24,
     "metadata": {},
     "output_type": "execute_result"
    }
   ],
   "source": [
    "import joblib\n",
    "joblib.dump(vectorizer, 'tfidf_vectorizer.pkl')"
   ]
  }
 ],
 "metadata": {
  "kernelspec": {
   "display_name": "recommender_system",
   "language": "python",
   "name": "python3"
  },
  "language_info": {
   "codemirror_mode": {
    "name": "ipython",
    "version": 3
   },
   "file_extension": ".py",
   "mimetype": "text/x-python",
   "name": "python",
   "nbconvert_exporter": "python",
   "pygments_lexer": "ipython3",
   "version": "3.11.11"
  }
 },
 "nbformat": 4,
 "nbformat_minor": 5
}
