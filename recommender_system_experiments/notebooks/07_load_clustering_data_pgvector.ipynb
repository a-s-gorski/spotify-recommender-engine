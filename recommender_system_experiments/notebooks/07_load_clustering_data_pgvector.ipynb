{
 "cells": [
  {
   "cell_type": "code",
   "execution_count": null,
   "id": "f739d608",
   "metadata": {},
   "outputs": [
    {
     "name": "stdout",
     "output_type": "stream",
     "text": [
      "Channels:\n",
      " - defaults\n",
      "Platform: linux-64\n",
      "Collecting package metadata (repodata.json): ...working... done\n",
      "Solving environment: ...working... done\n",
      "\n",
      "# All requested packages already installed.\n",
      "\n",
      "\n",
      "Note: you may need to restart the kernel to use updated packages.\n"
     ]
    }
   ],
   "source": [
    "%conda install -y psycopg2"
   ]
  },
  {
   "cell_type": "code",
   "execution_count": 34,
   "id": "78481b76",
   "metadata": {},
   "outputs": [],
   "source": [
    "import pickle\n",
    "import joblib\n",
    "import logging\n",
    "import os\n",
    "from pathlib import Path\n",
    "from tqdm import tqdm\n",
    "from dotenv import find_dotenv, load_dotenv\n",
    "from sklearn.feature_extraction.text import TfidfVectorizer\n",
    "from sqlalchemy import create_engine, Column, Integer, String, ARRAY\n",
    "from sqlalchemy.orm import declarative_base, sessionmaker\n",
    "from pgvector.sqlalchemy import Vector\n",
    "\n",
    "logging.basicConfig(\n",
    "    level=logging.INFO,\n",
    "    format=\"%(asctime)s [%(levelname)s] %(message)s\"\n",
    ")"
   ]
  },
  {
   "cell_type": "code",
   "execution_count": 35,
   "id": "8f885ffa",
   "metadata": {},
   "outputs": [],
   "source": [
    "logging.basicConfig(\n",
    "    level=logging.INFO,\n",
    "    format=\"%(asctime)s [%(levelname)s] %(message)s\"\n",
    ")\n",
    "\n",
    "MIN_PLAYLIST_LENGTH = 5\n",
    "INPUT_PATH = \"../scripts/data/02_processed\"\n",
    "VECTOR_DIM = 1000\n",
    "\n",
    "PG_HOST = os.getenv(\"POSTGRES_HOST\", \"localhost\")\n",
    "PG_PORT = os.getenv(\"POSTGRES_PORT\", 5432)\n",
    "PG_USER = os.getenv(\"POSTGRES_USER\", \"postgres\")\n",
    "PG_PASSWORD = os.getenv(\"POSTGRES_PASSWORD\", \"123456\")\n",
    "PG_DB = os.getenv(\"POSTGRES_DB\", \"testdb\")\n"
   ]
  },
  {
   "cell_type": "code",
   "execution_count": 36,
   "id": "bee23a4b",
   "metadata": {},
   "outputs": [],
   "source": [
    "Base = declarative_base()"
   ]
  },
  {
   "cell_type": "code",
   "execution_count": 29,
   "id": "4ca18a63",
   "metadata": {},
   "outputs": [],
   "source": [
    "def filter_valid_tracks(playlists, valid_tracks):\n",
    "    logging.info(f\"Filtering playlists using {len(valid_tracks)} valid tracks...\")\n",
    "    filtered = []\n",
    "    for pl in tqdm(playlists, total=len(playlists), desc=\"Filtering playlists\"):\n",
    "        filtered_tracks = [t for t in pl['tracks'] if t in valid_tracks]\n",
    "        filtered.append({'name': pl['name'], 'tracks': filtered_tracks})\n",
    "    logging.info(f\"Filtered down to {len(filtered)} playlists.\")\n",
    "    return filtered"
   ]
  },
  {
   "cell_type": "code",
   "execution_count": 30,
   "id": "44fe6a1e",
   "metadata": {},
   "outputs": [
    {
     "name": "stderr",
     "output_type": "stream",
     "text": [
      "2025-08-01 13:57:18,879 [INFO] Loading playlist data...\n",
      "2025-08-01 13:57:21,758 [INFO] Loaded 774682 playlists.\n",
      "2025-08-01 13:57:21,759 [INFO] Filtering playlists using 661 valid tracks...\n",
      "Filtering playlists: 100%|██████████| 774682/774682 [00:01<00:00, 390696.61it/s]\n",
      "2025-08-01 13:57:23,743 [INFO] Filtered down to 774682 playlists.\n",
      "2025-08-01 13:57:23,816 [INFO] Retained 513108 playlists with at least 5 tracks.\n"
     ]
    }
   ],
   "source": [
    "logging.info(\"Loading playlist data...\")\n",
    "with open(Path(INPUT_PATH) / \"filtered_playlists_clustering.pkl\", \"rb\") as f:\n",
    "    playlists = pickle.load(f)\n",
    "\n",
    "with open(Path(INPUT_PATH) / \"valid_tracks_clustering.pkl\", \"rb\") as f:\n",
    "    valid_tracks_dict = pickle.load(f)\n",
    "\n",
    "logging.info(f\"Loaded {len(playlists)} playlists.\")\n",
    "\n",
    "filtered = filter_valid_tracks(playlists, valid_tracks_dict)\n",
    "filtered = [p for p in filtered if len(p['tracks']) >= MIN_PLAYLIST_LENGTH]\n",
    "logging.info(f\"Retained {len(filtered)} playlists with at least {MIN_PLAYLIST_LENGTH} tracks.\")\n"
   ]
  },
  {
   "cell_type": "code",
   "execution_count": 31,
   "id": "9002f253",
   "metadata": {},
   "outputs": [],
   "source": [
    "names = [p['name'] for p in filtered]\n",
    "tracks = [p['tracks'] for p in filtered]"
   ]
  },
  {
   "cell_type": "code",
   "execution_count": 37,
   "id": "4b089f4f",
   "metadata": {},
   "outputs": [
    {
     "name": "stderr",
     "output_type": "stream",
     "text": [
      "2025-08-01 13:58:57,827 [INFO] Fitting TF-IDF vectorizer on playlist names...\n"
     ]
    }
   ],
   "source": [
    "logging.info(\"Fitting TF-IDF vectorizer on playlist names...\")\n",
    "vectorizer = TfidfVectorizer(\n",
    "    max_features=VECTOR_DIM,\n",
    "    stop_words='english',\n",
    "    lowercase=True,\n",
    "    token_pattern=r'\\b\\w+\\b'\n",
    ")"
   ]
  },
  {
   "cell_type": "code",
   "execution_count": 38,
   "id": "7755b5e4",
   "metadata": {},
   "outputs": [
    {
     "name": "stderr",
     "output_type": "stream",
     "text": [
      "2025-08-01 13:59:14,743 [INFO] Vectorization complete.\n",
      "2025-08-01 13:59:14,752 [INFO] Saved vectorizer to 'vectorizer.pkl'.\n"
     ]
    }
   ],
   "source": [
    "name_vectors = vectorizer.fit_transform(names)\n",
    "logging.info(\"Vectorization complete.\")\n",
    "\n",
    "joblib.dump(vectorizer, \"../scripts/data/03_artifacts/vectorizer.pkl\")\n",
    "logging.info(\"Saved vectorizer to 'vectorizer.pkl'.\")"
   ]
  },
  {
   "cell_type": "code",
   "execution_count": 39,
   "id": "6de41113",
   "metadata": {},
   "outputs": [],
   "source": [
    "class Playlist(Base):\n",
    "    __tablename__ = \"playlists\"\n",
    "    id = Column(Integer, primary_key=True)\n",
    "    name = Column(String, nullable=False)\n",
    "    tracks = Column(ARRAY(String), nullable=False)\n",
    "    embedding = Column(Vector(1024))"
   ]
  },
  {
   "cell_type": "code",
   "execution_count": null,
   "id": "5ed7d21c",
   "metadata": {},
   "outputs": [],
   "source": []
  }
 ],
 "metadata": {
  "kernelspec": {
   "display_name": "recommender_system",
   "language": "python",
   "name": "python3"
  },
  "language_info": {
   "codemirror_mode": {
    "name": "ipython",
    "version": 3
   },
   "file_extension": ".py",
   "mimetype": "text/x-python",
   "name": "python",
   "nbconvert_exporter": "python",
   "pygments_lexer": "ipython3",
   "version": "3.11.11"
  }
 },
 "nbformat": 4,
 "nbformat_minor": 5
}
