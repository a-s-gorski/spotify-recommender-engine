{
 "cells": [
  {
   "cell_type": "code",
   "execution_count": 1,
   "id": "be000fdc",
   "metadata": {},
   "outputs": [],
   "source": [
    "import pickle\n",
    "from pathlib import Path\n",
    "from sklearn.feature_extraction.text import TfidfVectorizer\n",
    "\n"
   ]
  },
  {
   "cell_type": "code",
   "execution_count": 2,
   "id": "54e217a3",
   "metadata": {},
   "outputs": [],
   "source": [
    "input_path = \"processed/01_filtered/\"\n",
    "\n",
    "with open(Path(input_path) / \"filtered_playlists.pkl\", \"rb\") as f:\n",
    "    playlists = pickle.load(f)  # list of lists of track_uris\n",
    "\n",
    "with open(Path(input_path) / \"valid_tracks.pkl\", \"rb\") as f:\n",
    "    valid_tracks_dict = pickle.load(f)  # dict from track_uri -> metadata dict"
   ]
  },
  {
   "cell_type": "markdown",
   "id": "22b5f484",
   "metadata": {},
   "source": [
    "## Supervised recommender"
   ]
  },
  {
   "cell_type": "code",
   "execution_count": 3,
   "id": "29b38101",
   "metadata": {},
   "outputs": [],
   "source": [
    "import pickle\n",
    "from pathlib import Path\n",
    "import numpy as np\n",
    "from sklearn.metrics.pairwise import cosine_similarity\n",
    "from implicit.als import AlternatingLeastSquares\n",
    "from scipy.sparse import csr_matrix\n",
    "import pandas as pd\n",
    "from tqdm import tqdm\n",
    "from collections import defaultdict, Counter\n",
    "from itertools import combinations\n",
    "import random\n",
    "import math\n"
   ]
  },
  {
   "cell_type": "code",
   "execution_count": 4,
   "id": "49e3960f",
   "metadata": {},
   "outputs": [
    {
     "name": "stderr",
     "output_type": "stream",
     "text": [
      "Filtering playlists:   0%|          | 0/774682 [00:00<?, ?it/s]"
     ]
    },
    {
     "name": "stderr",
     "output_type": "stream",
     "text": [
      "Filtering playlists: 100%|██████████| 774682/774682 [00:02<00:00, 332536.82it/s]\n"
     ]
    }
   ],
   "source": [
    "def filter_valid_tracks(playlists, valid_tracks):\n",
    "    filtered = []\n",
    "    for pl in tqdm(playlists, total=len(playlists), desc=\"Filtering playlists\"):\n",
    "        filtered_tracks = [t for t in pl['tracks'] if t in valid_tracks]\n",
    "        filtered.append({'name': pl['name'], 'tracks': filtered_tracks})\n",
    "    return filtered\n",
    "\n",
    "filtered_playlists = filter_valid_tracks(playlists, valid_tracks_dict)"
   ]
  },
  {
   "cell_type": "code",
   "execution_count": 5,
   "id": "0eae85e4",
   "metadata": {},
   "outputs": [
    {
     "name": "stderr",
     "output_type": "stream",
     "text": [
      "Building inverted index:   0%|          | 0/774682 [00:00<?, ?it/s]"
     ]
    },
    {
     "name": "stderr",
     "output_type": "stream",
     "text": [
      "Building inverted index: 100%|██████████| 774682/774682 [00:01<00:00, 400400.72it/s]\n"
     ]
    }
   ],
   "source": [
    "track_to_playlists = defaultdict(set)\n",
    "for pid, pl in tqdm(enumerate(filtered_playlists), total=len(filtered_playlists), desc=\"Building inverted index\"):\n",
    "    for track in pl['tracks']:\n",
    "        track_to_playlists[track].add(pid)"
   ]
  },
  {
   "cell_type": "code",
   "execution_count": 6,
   "id": "bf1d847b",
   "metadata": {},
   "outputs": [],
   "source": [
    "# Recommendation function\n",
    "def find_similar_playlists(query_tracks, track_to_pl, max_neighbors=500):\n",
    "    candidate_counts = Counter()\n",
    "    for track in query_tracks:\n",
    "        candidate_counts.update(track_to_pl.get(track, set()))\n",
    "    most_common = candidate_counts.most_common(max_neighbors)\n",
    "    similar_pids = [pid for pid, count in most_common]\n",
    "    return similar_pids\n",
    "\n",
    "def recommend_tracks(query_playlist, train_playlists, track_to_pl, top_k=100, max_neighbors=500):\n",
    "    query_tracks = query_playlist['tracks']\n",
    "    similar_pids = find_similar_playlists(query_tracks, track_to_pl, max_neighbors=max_neighbors)\n",
    "    track_counter = Counter()\n",
    "    for pid in similar_pids:\n",
    "        pl = train_playlists[pid]\n",
    "        track_counter.update(pl['tracks'])\n",
    "    existing_tracks = set(query_tracks)\n",
    "    recommendations = [t for t, _ in track_counter.most_common() if t not in existing_tracks]\n",
    "    return recommendations[:top_k]"
   ]
  },
  {
   "cell_type": "code",
   "execution_count": 9,
   "id": "a92e3cd2",
   "metadata": {},
   "outputs": [
    {
     "name": "stdout",
     "output_type": "stream",
     "text": [
      "Recommended tracks: ['spotify:track:2a1o6ZejUi8U3wzzOtCOYw', 'spotify:track:7qCAVkHWZkF44OzOUKf8Cr', 'spotify:track:0S5eBnwtkuFB0TQTlVqW6C', 'spotify:track:3QHMxEOAGD51PDlbFPHLyJ', 'spotify:track:2Cd9iWfcOpGDHLz6tVA3G4', 'spotify:track:2Kj7fT9h3jRAYIpRBOjsh9', 'spotify:track:3pDhN3qB33AOPhQEkUCaWt', 'spotify:track:4aWmUDTfIPGksMNLV2rQP2', 'spotify:track:6mICuAdrwEjh6Y6lroV2Kg', 'spotify:track:5N8nNuTmIzkZOfcxXlygUw'] 10\n"
     ]
    }
   ],
   "source": [
    "recommended_tracks = recommend_tracks(filtered_playlists[0], filtered_playlists, track_to_playlists, top_k=10, max_neighbors=500)\n",
    "print(\"Recommended tracks:\", recommended_tracks, len(recommended_tracks))"
   ]
  },
  {
   "cell_type": "code",
   "execution_count": 10,
   "id": "7b970e3e",
   "metadata": {},
   "outputs": [],
   "source": [
    "def recommend_tracks_supervised(tracks, k):\n",
    "    return recommend_tracks(tracks, filtered_playlists, track_to_playlists, top_k=k, max_neighbors=500)"
   ]
  },
  {
   "cell_type": "markdown",
   "id": "a86d525d",
   "metadata": {},
   "source": [
    "# Recommend coldstart"
   ]
  },
  {
   "cell_type": "code",
   "execution_count": 11,
   "id": "610e63f1",
   "metadata": {},
   "outputs": [
    {
     "name": "stderr",
     "output_type": "stream",
     "text": [
      "Filtering playlists: 100%|██████████| 996829/996829 [00:19<00:00, 50836.08it/s]\n"
     ]
    }
   ],
   "source": [
    "def filter_valid_tracks(playlists, valid_tracks):\n",
    "    filtered = []\n",
    "    for pl in tqdm(playlists, total=len(playlists), desc=\"Filtering playlists\"):\n",
    "        filtered_tracks = [t for t in pl['tracks'] if t in valid_tracks]\n",
    "        filtered.append({'name': pl['name'], 'tracks': filtered_tracks})\n",
    "    return filtered\n",
    "\n",
    "filtered_playlists_colab = filter_valid_tracks(playlists, valid_tracks_dict)"
   ]
  },
  {
   "cell_type": "code",
   "execution_count": 12,
   "id": "484786e2",
   "metadata": {},
   "outputs": [],
   "source": [
    "names = [p['name'] for p in filtered_playlists_colab]\n",
    "tracks = [p['tracks'] for p in filtered_playlists_colab]\n",
    "filtered_playlists_colab = [p for p in filtered_playlists_colab if len(p['tracks']) >= 5]\n",
    "vectorizer = TfidfVectorizer(stop_words='english', lowercase=True, token_pattern=r'\\b\\w+\\b')\n",
    "name_vectors = vectorizer.fit_transform(names)"
   ]
  },
  {
   "cell_type": "code",
   "execution_count": 13,
   "id": "3d6f9a6a",
   "metadata": {},
   "outputs": [],
   "source": [
    "from sklearn.metrics.pairwise import cosine_similarity\n",
    "\n",
    "def recommend_tracks_from_name(name, k=10, n_neighbors=5):\n",
    "    query_vec = vectorizer.transform([name])\n",
    "    sims = cosine_similarity(query_vec, name_vectors)[0]\n",
    "    top_idx = sims.argsort()[::-1][:n_neighbors]\n",
    "\n",
    "    recommended_tracks = []\n",
    "    for idx in top_idx:\n",
    "        recommended_tracks.extend(tracks[idx])\n",
    "\n",
    "    return list(dict.fromkeys(recommended_tracks))[:k]\n"
   ]
  },
  {
   "cell_type": "code",
   "execution_count": 14,
   "id": "826c9488",
   "metadata": {},
   "outputs": [],
   "source": [
    "def recommend_tracks_collaborative(name, k):\n",
    "    return recommend_tracks_from_name(name, k=k, n_neighbors=10)[:k]"
   ]
  },
  {
   "cell_type": "code",
   "execution_count": 15,
   "id": "fa0cc071",
   "metadata": {},
   "outputs": [
    {
     "name": "stdout",
     "output_type": "stream",
     "text": [
      "Recommended tracks: ['spotify:track:5HNCy40Ni5BZJFw1TKzRsC', 'spotify:track:2TjdnqlpwOjhijHCwHCP2d', 'spotify:track:1TKTiKp3zbNgrBH2IwSwIx', 'spotify:track:0iJfN2CqrX7O8hkzgAMMAf', 'spotify:track:5a4MgIUSf9K8wXLSm6xPEx', 'spotify:track:0R797G9o4tkDfRZj6KMnHS', 'spotify:track:1GEOSS415bZVHNuXWlCT6b', 'spotify:track:0ESdtt9cjGZUkUbaubSrv2', 'spotify:track:7FCiDC7ojdm19CJePq6QAe', 'spotify:track:5OFi9CIyD6s1oENyHapK2W'] 10\n"
     ]
    }
   ],
   "source": [
    "recommended_tracks = recommend_tracks_collaborative(name=\"rock\", k=10)\n",
    "print(\"Recommended tracks:\", recommended_tracks, len(recommended_tracks))"
   ]
  },
  {
   "cell_type": "markdown",
   "id": "09da4045",
   "metadata": {},
   "source": [
    "## Generate submission"
   ]
  },
  {
   "cell_type": "code",
   "execution_count": 21,
   "id": "45b47b01",
   "metadata": {},
   "outputs": [
    {
     "name": "stderr",
     "output_type": "stream",
     "text": [
      "Processing challenge set: 100%|██████████| 10000/10000 [07:32<00:00, 22.11it/s]\n"
     ]
    }
   ],
   "source": [
    "import json\n",
    "import csv\n",
    "from tqdm import tqdm\n",
    "\n",
    "# Path to your challenge set and the output submission file\n",
    "challenge_set_path = \"challenge_set.json\"\n",
    "submission_path = \"sample_submission.csv\"\n",
    "\n",
    "NUM_PREDICTIONS = 10000\n",
    "NUM_TRACKS = 500\n",
    "\n",
    "ALL_TRACKS = list(valid_tracks_dict.keys())\n",
    "\n",
    "with open(challenge_set_path, \"r\") as f:\n",
    "    challenge_set = json.load(f)\n",
    "    \n",
    "def dedup_fast(lst):\n",
    "    seen = set()\n",
    "    return [seen.add(x) or x for x in lst if x not in seen]\n",
    "\n",
    "\n",
    "with open(submission_path, \"w\", newline='') as f:\n",
    "    writer = csv.writer(f)\n",
    "    writer.writerow([\"team_info\", \"a-s-gorski\", \"adamsebastiangorski@gmail.com\"])\n",
    "    for playlist in tqdm(challenge_set[\"playlists\"], desc=\"Processing challenge set\"):\n",
    "        pid = playlist[\"pid\"]\n",
    "        track_uris = [t[\"track_uri\"] for t in playlist[\"tracks\"]]\n",
    "        name = playlist.get(\"name\", \"\")\n",
    "        valid_track_uris = [uri for uri in track_uris if uri in track_to_playlists]\n",
    "        if valid_track_uris and len(valid_track_uris) >= 5:\n",
    "            query = {\n",
    "                \"name\": name,\n",
    "                \"tracks\": valid_track_uris\n",
    "            }\n",
    "            predicted_tracks = recommend_tracks_supervised(query, NUM_PREDICTIONS)\n",
    "            if len(set(predicted_tracks)) < NUM_TRACKS:\n",
    "                predicted_tracks += recommend_tracks_collaborative(name, NUM_PREDICTIONS)\n",
    "        else:\n",
    "            predicted_tracks = recommend_tracks_collaborative(name, NUM_PREDICTIONS)\n",
    "\n",
    "        if len(set(predicted_tracks)) < NUM_TRACKS:\n",
    "            predicted_tracks += random.sample(ALL_TRACKS, NUM_PREDICTIONS)\n",
    "        \n",
    "        predicted_tracks = [t for t in predicted_tracks if t not in track_uris]\n",
    "        predicted_tracks = dedup_fast(predicted_tracks)\n",
    "        predicted_tracks = predicted_tracks[:NUM_TRACKS]\n",
    "        \n",
    "        if len(predicted_tracks) < NUM_TRACKS:\n",
    "            print(f\"Warning: Less than {NUM_TRACKS} tracks predicted for playlist {pid}. Found {len(predicted_tracks)} tracks.\")\n",
    "        \n",
    "        writer.writerow([pid] + predicted_tracks)\n"
   ]
  },
  {
   "cell_type": "code",
   "execution_count": null,
   "id": "0ea55349",
   "metadata": {},
   "outputs": [],
   "source": []
  }
 ],
 "metadata": {
  "kernelspec": {
   "display_name": "recommender_system",
   "language": "python",
   "name": "python3"
  },
  "language_info": {
   "codemirror_mode": {
    "name": "ipython",
    "version": 3
   },
   "file_extension": ".py",
   "mimetype": "text/x-python",
   "name": "python",
   "nbconvert_exporter": "python",
   "pygments_lexer": "ipython3",
   "version": "3.11.11"
  }
 },
 "nbformat": 4,
 "nbformat_minor": 5
}
