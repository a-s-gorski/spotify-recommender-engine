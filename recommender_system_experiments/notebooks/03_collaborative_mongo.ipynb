{
 "cells": [
  {
   "cell_type": "code",
   "execution_count": 2,
   "id": "75b98870",
   "metadata": {},
   "outputs": [
    {
     "name": "stdout",
     "output_type": "stream",
     "text": [
      "Note: you may need to restart the kernel to use updated packages.\n"
     ]
    }
   ],
   "source": [
    "%pip install -q pymongo"
   ]
  },
  {
   "cell_type": "code",
   "execution_count": 4,
   "id": "e0ded809",
   "metadata": {},
   "outputs": [],
   "source": [
    "import pickle\n",
    "from pathlib import Path\n",
    "from pymongo import MongoClient, UpdateOne\n",
    "from tqdm import tqdm\n"
   ]
  },
  {
   "cell_type": "code",
   "execution_count": 5,
   "id": "1c0e9735",
   "metadata": {},
   "outputs": [],
   "source": [
    "input_path = \"processed/01_filtered/\"\n",
    "\n",
    "with open(Path(input_path) / \"filtered_playlists.pkl\", \"rb\") as f:\n",
    "    playlists = pickle.load(f)  # list of dicts {'name':..., 'tracks':[track_uris]}\n",
    "\n",
    "with open(Path(input_path) / \"valid_tracks.pkl\", \"rb\") as f:\n",
    "    valid_tracks_dict = pickle.load(f)"
   ]
  },
  {
   "cell_type": "code",
   "execution_count": 6,
   "id": "c8e090e7",
   "metadata": {},
   "outputs": [],
   "source": [
    "# Filter playlists to keep only valid tracks\n",
    "def filter_valid_tracks(playlists, valid_tracks):\n",
    "    filtered = []\n",
    "    for pl in playlists:\n",
    "        filtered_tracks = [t for t in pl['tracks'] if t in valid_tracks]\n",
    "        filtered.append({'name': pl['name'], 'tracks': filtered_tracks})\n",
    "    return filtered\n",
    "\n",
    "filtered_playlists = filter_valid_tracks(playlists, valid_tracks_dict)\n"
   ]
  },
  {
   "cell_type": "code",
   "execution_count": null,
   "id": "af764697",
   "metadata": {},
   "outputs": [],
   "source": [
    "from pymongo import MongoClient\n",
    "from pymongo.errors import BulkWriteError\n",
    "\n",
    "def load_data_to_mongo(valid_tracks_dict, filtered_playlists, mongo_uri=\"your_mongo_uri\", db_name=\"spotify\", batch_size=1000):\n",
    "    client = MongoClient(mongo_uri)\n",
    "    db = client[db_name]\n",
    "\n",
    "    # Drop existing collections\n",
    "    db.tracks.drop()\n",
    "    db.playlists.drop()\n",
    "\n",
    "    # Insert tracks\n",
    "    track_docs = [{'_id': uri, **meta} for uri, meta in valid_tracks_dict.items()]\n",
    "    if track_docs:\n",
    "        db.tracks.insert_many(track_docs)\n",
    "\n",
    "    def batched(iterable, n):\n",
    "        for i in range(0, len(iterable), n):\n",
    "            yield iterable[i:i + n]\n",
    "\n",
    "    playlist_docs = [{'name': pl['name'], 'tracks': pl['tracks']} for pl in filtered_playlists]\n",
    "\n",
    "    for batch in batched(playlist_docs, batch_size):\n",
    "        try:\n",
    "            db.playlists.insert_many(batch, ordered=False)\n",
    "        except BulkWriteError as e:\n",
    "            print(f\"⚠️ Bulk write error in playlist batch: {e.details}\")\n",
    "\n",
    "\n",
    "    db.playlists.create_index(\"tracks\")\n",
    "\n",
    "    print(\"✅ Data loaded into MongoDB.\")\n",
    "    return client\n"
   ]
  },
  {
   "cell_type": "code",
   "execution_count": 28,
   "id": "dfd48bd8",
   "metadata": {},
   "outputs": [
    {
     "name": "stdout",
     "output_type": "stream",
     "text": [
      "✅ Data loaded into MongoDB.\n"
     ]
    }
   ],
   "source": [
    "client = load_data_to_mongo(valid_tracks_dict, filtered_playlists)"
   ]
  },
  {
   "cell_type": "code",
   "execution_count": 29,
   "id": "a07bfb1c",
   "metadata": {},
   "outputs": [],
   "source": [
    "from collections import Counter\n",
    "import random\n",
    "\n",
    "def filter_valid_tracks_mongo(client, playlists):\n",
    "    valid_track_ids = set(t['_id'] for t in client.spotify.tracks.find({}, {'_id': 1}))\n",
    "    filtered = []\n",
    "    for pl in playlists:\n",
    "        filtered_tracks = [t for t in pl['tracks'] if t in valid_track_ids]\n",
    "        filtered.append({'name': pl['name'], 'tracks': filtered_tracks})\n",
    "    return filtered\n",
    "\n",
    "def get_all_playlists(client):\n",
    "    return list(client.spotify.playlists.find({}, {'name': 1, 'tracks': 1}))\n",
    "\n",
    "def build_inverted_index(playlists):\n",
    "    track_to_playlists = {}\n",
    "    for idx, pl in enumerate(playlists):\n",
    "        for track in pl['tracks']:\n",
    "            if track not in track_to_playlists:\n",
    "                track_to_playlists[track] = set()\n",
    "            track_to_playlists[track].add(idx)\n",
    "    return track_to_playlists\n",
    "\n",
    "def find_similar_playlists(query_tracks, track_to_playlists, max_neighbors=500):\n",
    "    candidate_counts = Counter()\n",
    "    for track in query_tracks:\n",
    "        candidate_counts.update(track_to_playlists.get(track, set()))\n",
    "    most_common = candidate_counts.most_common(max_neighbors)\n",
    "    return [pid for pid, _ in most_common]\n",
    "\n",
    "def recommend_tracks_mongo(query_uris, client, top_k=100, max_neighbors=500):\n",
    "    playlists = get_all_playlists(client)\n",
    "    filtered_playlists = filter_valid_tracks_mongo(client, playlists)\n",
    "    \n",
    "    # Train/test split\n",
    "    random.seed(42)\n",
    "    idxs = list(range(len(filtered_playlists)))\n",
    "    random.shuffle(idxs)\n",
    "    split_idx = int(0.8 * len(idxs))\n",
    "    train_playlists = [filtered_playlists[i] for i in idxs[:split_idx]]\n",
    "\n",
    "    # Build inverted index\n",
    "    track_to_playlists = build_inverted_index(train_playlists)\n",
    "\n",
    "    # Find similar playlists\n",
    "    similar_pids = find_similar_playlists(query_uris, track_to_playlists, max_neighbors=max_neighbors)\n",
    "\n",
    "    # Aggregate track frequencies\n",
    "    track_counter = Counter()\n",
    "    for pid in similar_pids:\n",
    "        track_counter.update(train_playlists[pid]['tracks'])\n",
    "\n",
    "    # Filter out already seen tracks\n",
    "    recommendations = [t for t, _ in track_counter.most_common() if t not in query_uris]\n",
    "    return recommendations[:top_k]\n"
   ]
  },
  {
   "cell_type": "code",
   "execution_count": null,
   "id": "1e95e6c5",
   "metadata": {},
   "outputs": [],
   "source": [
    "def recommend_tracks_mongo_light(query_uris, client, top_k=100, max_neighbors=500):\n",
    "    db = client.spotify\n",
    "    candidate_playlists = list(db.playlists.find(\n",
    "        {\"tracks\": {\"$in\": query_uris}},\n",
    "        {\"tracks\": 1}\n",
    "    ).limit(max_neighbors))\n",
    "\n",
    "    track_counter = Counter()\n",
    "    for pl in candidate_playlists:\n",
    "        track_counter.update(pl['tracks'])\n",
    "\n",
    "    # Filter out query tracks from recommendations\n",
    "    recommendations = [t for t, _ in track_counter.most_common() if t not in query_uris]\n",
    "\n",
    "    return recommendations[:top_k]"
   ]
  },
  {
   "cell_type": "code",
   "execution_count": 36,
   "id": "45191549",
   "metadata": {},
   "outputs": [
    {
     "name": "stdout",
     "output_type": "stream",
     "text": [
      "Recommendation took 6.6083 seconds\n",
      "\n",
      "Recommendation light took 0.0385 seconds\n",
      "\n",
      "INPUT\n",
      "Sexy Can I feat. Yung Berg by Ray J\n",
      "Hips Don't Lie by Shakira\n",
      "OUTPUT\n",
      "Buy U a Drank (Shawty Snappin') by T-Pain\n",
      "Ignition - Remix by R. Kelly\n",
      "Kiss Me Thru The Phone by Soulja Boy\n",
      "It Wasn't Me by Shaggy\n",
      "Yeah! by Usher\n",
      "BedRock by Young Money\n",
      "Gold Digger by Kanye West\n",
      "Promiscuous by Nelly Furtado\n",
      "Smack That - Dirty by Akon\n",
      "Suga Suga by Baby Bash\n"
     ]
    }
   ],
   "source": [
    "import time\n",
    "\n",
    "\n",
    "query_uris = [\n",
    "    \"spotify:track:0DdpxWfVvUGgkJv5536tiF\",\n",
    "    \"spotify:track:3ZFTkvIE7kyPt6Nu3PEa7V\"\n",
    "]\n",
    "\n",
    "start_time = time.time()\n",
    "recommendations = recommend_tracks_mongo(query_uris, client, top_k=10, max_neighbors=500)\n",
    "end_time = time.time()\n",
    "\n",
    "print(f\"Recommendation took {end_time - start_time:.4f} seconds\\n\")\n",
    "\n",
    "start_time = time.time()\n",
    "recommendations = recommend_tracks_mongo_light(query_uris, client, top_k=10, max_neighbors=500)\n",
    "end_time = time.time()\n",
    "\n",
    "print(f\"Recommendation light took {end_time - start_time:.4f} seconds\\n\")\n",
    "\n",
    "\n",
    "print(\"INPUT\")\n",
    "for qu in query_uris:\n",
    "    track = client.spotify.tracks.find_one({'_id': qu})\n",
    "    print(f\"{track['track_name']} by {track['artist_name']}\")\n",
    "\n",
    "\n",
    "\n",
    "print(\"OUTPUT\")\n",
    "# Display result\n",
    "for uri in recommendations:\n",
    "    track = client.spotify.tracks.find_one({'_id': uri})\n",
    "    print(f\"{track['track_name']} by {track['artist_name']}\")"
   ]
  },
  {
   "cell_type": "code",
   "execution_count": null,
   "id": "2934a01e",
   "metadata": {},
   "outputs": [],
   "source": []
  }
 ],
 "metadata": {
  "kernelspec": {
   "display_name": "recommender_system",
   "language": "python",
   "name": "python3"
  },
  "language_info": {
   "codemirror_mode": {
    "name": "ipython",
    "version": 3
   },
   "file_extension": ".py",
   "mimetype": "text/x-python",
   "name": "python",
   "nbconvert_exporter": "python",
   "pygments_lexer": "ipython3",
   "version": "3.11.11"
  }
 },
 "nbformat": 4,
 "nbformat_minor": 5
}
